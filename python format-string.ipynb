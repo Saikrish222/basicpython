{
 "cells": [
  {
   "cell_type": "code",
   "execution_count": 13,
   "id": "2d02db19-4bd0-46bf-a7c2-622adc568cd4",
   "metadata": {},
   "outputs": [
    {
     "name": "stdout",
     "output_type": "stream",
     "text": [
      "my name is sai krishna and iam 30 year old.\n",
      "there was a temple called golden temple since 600 years.\n"
     ]
    }
   ],
   "source": [
    "#python format -string\n",
    "#old sytle formating(% operator)\n",
    "name = \"sai krishna\"\n",
    "age = 30\n",
    "formatted_string = \"my name is %s and iam %d year old.\"%(name,age)\n",
    "print(formatted_string)\n",
    "\n",
    "temple = \"golden temple\"\n",
    "years = 600\n",
    "formatted_string =\"there was a temple called %s since %d years.\"%(temple,years)\n",
    "print(formatted_string)"
   ]
  },
  {
   "cell_type": "code",
   "execution_count": 19,
   "id": "754cc20d-3130-4b54-9ff5-79f9a66073a3",
   "metadata": {},
   "outputs": [
    {
     "name": "stdout",
     "output_type": "stream",
     "text": [
      "I brought a car'nexon' it cost'10lkh'\n"
     ]
    }
   ],
   "source": [
    "#format method\n",
    "car = \"nexon\"\n",
    "cost = \"10lkh\"\n",
    "formatted_string = \"I brought a car'{}' it cost'{}'\".format(car,cost)\n",
    "print(formatted_string)"
   ]
  },
  {
   "cell_type": "code",
   "execution_count": 23,
   "id": "be222bad-19c3-46b2-9d94-a3843a20cec6",
   "metadata": {},
   "outputs": [
    {
     "name": "stdout",
     "output_type": "stream",
     "text": [
      "my name is hadvik and i have so manytoys.\n"
     ]
    }
   ],
   "source": [
    "#string interpolation(f-string)\n",
    "name = \"hadvik\"\n",
    "toys = \"so many\"\n",
    "formatted_string = f\"my name is {name} and i have {toys}toys.\"\n",
    "print(formatted_string)"
   ]
  },
  {
   "cell_type": "code",
   "execution_count": null,
   "id": "b4fd2ae1-565a-4315-9e2c-85b0ae532918",
   "metadata": {},
   "outputs": [],
   "source": []
  }
 ],
 "metadata": {
  "kernelspec": {
   "display_name": "Python 3 (ipykernel)",
   "language": "python",
   "name": "python3"
  },
  "language_info": {
   "codemirror_mode": {
    "name": "ipython",
    "version": 3
   },
   "file_extension": ".py",
   "mimetype": "text/x-python",
   "name": "python",
   "nbconvert_exporter": "python",
   "pygments_lexer": "ipython3",
   "version": "3.12.4"
  }
 },
 "nbformat": 4,
 "nbformat_minor": 5
}
