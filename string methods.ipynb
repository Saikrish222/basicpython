{
 "cells": [
  {
   "cell_type": "code",
   "execution_count": 3,
   "id": "16ff34e2-74aa-4805-8a40-9c322d67eb6e",
   "metadata": {},
   "outputs": [
    {
     "name": "stdout",
     "output_type": "stream",
     "text": [
      "12\n",
      "26\n"
     ]
    }
   ],
   "source": [
    "#string method\n",
    "#len()\n",
    "A = \"Thirothamala\"\n",
    "length = len(A)\n",
    "print(length)\n",
    "\n",
    "B = \"abcdefghijklmnopqrstuvwxyz\"\n",
    "length = len(B)\n",
    "print(length)\n"
   ]
  },
  {
   "cell_type": "code",
   "execution_count": 5,
   "id": "c9b2e9fd-4fe7-4ba1-8c80-3bb695a738d9",
   "metadata": {},
   "outputs": [
    {
     "name": "stdout",
     "output_type": "stream",
     "text": [
      "WELCOME\n",
      "thankyou\n"
     ]
    }
   ],
   "source": [
    "#lower()/upper()\n",
    "str1 = \"welcome\"\n",
    "print(str1.upper())\n",
    "\n",
    "str2 = \"THANKYOU\"\n",
    "print(str2.lower())"
   ]
  },
  {
   "cell_type": "code",
   "execution_count": 35,
   "id": "5edf90e9-46fc-42c1-bae0-335750988e93",
   "metadata": {},
   "outputs": [
    {
     "ename": "SyntaxError",
     "evalue": "invalid syntax (4189152688.py, line 3)",
     "output_type": "error",
     "traceback": [
      "\u001b[1;36m  Cell \u001b[1;32mIn[35], line 3\u001b[1;36m\u001b[0m\n\u001b[1;33m    stripped_string = my_string strip(kittu)\u001b[0m\n\u001b[1;37m                                ^\u001b[0m\n\u001b[1;31mSyntaxError\u001b[0m\u001b[1;31m:\u001b[0m invalid syntax\n"
     ]
    }
   ],
   "source": [
    "#strip(removes white spaces)\n",
    "my_string = \"  kittu  \"\n",
    "stripped_string = my_string strip(kittu)\n",
    "print(stripped_string)"
   ]
  },
  {
   "cell_type": "code",
   "execution_count": 37,
   "id": "028b2c03-a521-4312-9f05-0cc410de70bc",
   "metadata": {},
   "outputs": [
    {
     "name": "stdout",
     "output_type": "stream",
     "text": [
      "hello,world\n",
      "1,2,3,4\n"
     ]
    }
   ],
   "source": [
    "#replace()#old value,new value\n",
    "my_string = \"hello,hai\"\n",
    "new_string = my_string.replace(\"hai\",\"world\")\n",
    "print(new_string)\n",
    "\n",
    "my_string = \"1,2,3,5\"\n",
    "new_string = my_string.replace(\"5\",\"4\")\n",
    "print(new_string)\n"
   ]
  },
  {
   "cell_type": "code",
   "execution_count": 43,
   "id": "adb4036e-5f1c-4752-b348-1a804272f594",
   "metadata": {},
   "outputs": [
    {
     "name": "stdout",
     "output_type": "stream",
     "text": [
      "['vamshi', 'is', 'a', 'bad', 'boy', 'but', 'good', 'in', 'studies']\n",
      "['tata', 'punch', 'car', 'looking', 'good', 'but', 'milege', 'is', 'low']\n",
      "['1', '2', '3', '4', '5', '6', '7', '8', '9']\n"
     ]
    }
   ],
   "source": [
    "#split(split the string into a list of substring)\n",
    "A = \"vamshi is a bad boy but good in studies\"\n",
    "words = A.split()\n",
    "print(words)\n",
    "\n",
    "B = \"tata punch car looking good but milege is low\"\n",
    "words = B.split()\n",
    "print(words)\n",
    "\n",
    "C = \"1 2 3 4 5 6 7 8 9\"\n",
    "words = C.split()\n",
    "print(words)"
   ]
  },
  {
   "cell_type": "code",
   "execution_count": 55,
   "id": "70c47a94-2ab2-4feb-bf68-b65bed7f9527",
   "metadata": {},
   "outputs": [
    {
     "ename": "SyntaxError",
     "evalue": "invalid syntax. Perhaps you forgot a comma? (2102662224.py, line 2)",
     "output_type": "error",
     "traceback": [
      "\u001b[1;36m  Cell \u001b[1;32mIn[55], line 2\u001b[1;36m\u001b[0m\n\u001b[1;33m    words = ['C'R'I'C'K'E'T']\u001b[0m\n\u001b[1;37m             ^\u001b[0m\n\u001b[1;31mSyntaxError\u001b[0m\u001b[1;31m:\u001b[0m invalid syntax. Perhaps you forgot a comma?\n"
     ]
    }
   ],
   "source": [
    "#join(joins a list of string into a single)\n",
    "words = ['C''R''I''C''K''E''T']\n",
    "joined_string = ' '.join(words)\n",
    "print(joined_string)\n",
    "\n",
    "words = ['R''O''H''I''T''S''H''A''R''M''A']\n",
    "joined_string = ' '.join(words)\n",
    "print(joined_string)\n",
    "\n",
    "numbers = ['6''3''0''5''5''8''1''5''6''6']\n",
    "joined_string = ' '.join(numbers)\n",
    "print(joined_string)"
   ]
  },
  {
   "cell_type": "code",
   "execution_count": null,
   "id": "2ef8ea15-cef2-4963-9178-36fc08f403d3",
   "metadata": {},
   "outputs": [],
   "source": []
  }
 ],
 "metadata": {
  "kernelspec": {
   "display_name": "Python 3 (ipykernel)",
   "language": "python",
   "name": "python3"
  },
  "language_info": {
   "codemirror_mode": {
    "name": "ipython",
    "version": 3
   },
   "file_extension": ".py",
   "mimetype": "text/x-python",
   "name": "python",
   "nbconvert_exporter": "python",
   "pygments_lexer": "ipython3",
   "version": "3.12.4"
  }
 },
 "nbformat": 4,
 "nbformat_minor": 5
}
