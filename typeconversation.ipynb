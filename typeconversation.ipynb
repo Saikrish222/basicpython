{
 "cells": [
  {
   "cell_type": "code",
   "execution_count": 1,
   "id": "da63ca9e-a684-4a6f-a376-f9bb65f49910",
   "metadata": {},
   "outputs": [
    {
     "name": "stdout",
     "output_type": "stream",
     "text": [
      "<class 'int'>\n",
      "<class 'float'>\n",
      "<class 'complex'>\n"
     ]
    }
   ],
   "source": [
    "x=35\n",
    "y=4.22\n",
    "z=1+2j\n",
    "print(type(x))\n",
    "print(type(y))\n",
    "print(type(z))"
   ]
  },
  {
   "cell_type": "code",
   "execution_count": 3,
   "id": "3c9e89e7-c038-4ac1-8f51-8e8283c4baf3",
   "metadata": {},
   "outputs": [
    {
     "ename": "NameError",
     "evalue": "name 'C' is not defined",
     "output_type": "error",
     "traceback": [
      "\u001b[1;31m---------------------------------------------------------------------------\u001b[0m",
      "\u001b[1;31mNameError\u001b[0m                                 Traceback (most recent call last)",
      "Cell \u001b[1;32mIn[3], line 7\u001b[0m\n\u001b[0;32m      5\u001b[0m a_intf\u001b[38;5;241m=\u001b[39m\u001b[38;5;28mfloat\u001b[39m(a)\n\u001b[0;32m      6\u001b[0m b_intf\u001b[38;5;241m=\u001b[39m\u001b[38;5;28mfloat\u001b[39m(b)\n\u001b[1;32m----> 7\u001b[0m c_intf\u001b[38;5;241m=\u001b[39m\u001b[38;5;28mfloat\u001b[39m(C)\n\u001b[0;32m      8\u001b[0m \u001b[38;5;28mprint\u001b[39m(a_intf)\n\u001b[0;32m      9\u001b[0m \u001b[38;5;28mprint\u001b[39m(b_intf)\n",
      "\u001b[1;31mNameError\u001b[0m: name 'C' is not defined"
     ]
    }
   ],
   "source": [
    "a=10\n",
    "b=12\n",
    "c=14\n",
    "#from int to float\n",
    "a_intf=float(a)\n",
    "b_intf=float(b)\n",
    "c_intf=float(c)\n",
    "print(a_intf)\n",
    "print(b_intf)\n",
    "print(c_intf)\n",
    "#from int to complex\n",
    "a_intc=complex(a)\n",
    "b_intc=complex(b)\n",
    "c_intc=complex(c)\n",
    "print(a_intc)\n",
    "print(b_intc)\n",
    "print(c_intc)"
   ]
  },
  {
   "cell_type": "code",
   "execution_count": null,
   "id": "70b1f8db-1eaa-4193-ab46-db168cd108d1",
   "metadata": {},
   "outputs": [],
   "source": []
  }
 ],
 "metadata": {
  "kernelspec": {
   "display_name": "Python 3 (ipykernel)",
   "language": "python",
   "name": "python3"
  },
  "language_info": {
   "codemirror_mode": {
    "name": "ipython",
    "version": 3
   },
   "file_extension": ".py",
   "mimetype": "text/x-python",
   "name": "python",
   "nbconvert_exporter": "python",
   "pygments_lexer": "ipython3",
   "version": "3.12.4"
  }
 },
 "nbformat": 4,
 "nbformat_minor": 5
}
