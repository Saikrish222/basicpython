{
 "cells": [
  {
   "cell_type": "code",
   "execution_count": null,
   "id": "c807d1f7-29bb-43ad-ab73-9e294ef663d8",
   "metadata": {},
   "outputs": [],
   "source": [
    "#creating 10 valid variables\n",
    "name=\"kittu\"\n",
    "_age=22\n",
    "city=\"hyderabad\"\n",
    "wheather=\"humidity\"\n",
    "_temperature=35\n",
    "rainfall=12.5\n",
    "_pincode=506112\n",
    "python=\"subject\"\n",
    "_anaconda=\"snake\"\n",
    "abc=100\n",
    "print(name)\n",
    "print(_age)\n",
    "print(city)\n",
    "print(wheather)\n",
    "print(_temperature)\n",
    "print(rainfall)\n",
    "print(_pincode)\n",
    "print(python)\n",
    "print(_anaconda)\n",
    "print(a"
   ]
  }
 ],
 "metadata": {
  "kernelspec": {
   "display_name": "Python 3 (ipykernel)",
   "language": "python",
   "name": "python3"
  },
  "language_info": {
   "codemirror_mode": {
    "name": "ipython",
    "version": 3
   },
   "file_extension": ".py",
   "mimetype": "text/x-python",
   "name": "python",
   "nbconvert_exporter": "python",
   "pygments_lexer": "ipython3",
   "version": "3.12.4"
  }
 },
 "nbformat": 4,
 "nbformat_minor": 5
}
