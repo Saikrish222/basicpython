{
 "cells": [
  {
   "cell_type": "code",
   "execution_count": 1,
   "id": "2dd31059-ec62-4ad6-ba23-136b8095d884",
   "metadata": {},
   "outputs": [],
   "source": [
    "#empty_dict{}"
   ]
  },
  {
   "cell_type": "code",
   "execution_count": 21,
   "id": "4f517003-a773-4aa2-9be8-11a60b51a8ee",
   "metadata": {},
   "outputs": [
    {
     "name": "stdout",
     "output_type": "stream",
     "text": [
      "sai\n",
      "[80, 90, 75]\n",
      "65\n"
     ]
    }
   ],
   "source": [
    "mixed_dict={ 'name':'reddy',\n",
    "            'age':30,\n",
    "            'grades':[80,90,75]  \n",
    "           }\n",
    "            \n",
    "student={ 'name':'sai',\n",
    "          'age':65,   \n",
    "          'grade':'A',\n",
    "}\n",
    "print(student['name'])\n",
    "print(mixed_dict['grades'])\n",
    "print(student['age'])"
   ]
  },
  {
   "cell_type": "code",
   "execution_count": 51,
   "id": "0e60924f-6f88-4238-9f1b-8c9efd6cd5d7",
   "metadata": {},
   "outputs": [
    {
     "name": "stdout",
     "output_type": "stream",
     "text": [
      "{'name': 'saikrishna', 'age': 22, 'grade': 'c'}\n",
      "{'name': 'kittu', 'age': 22, 'grade': 'c'}\n",
      "{'name': 'kittu', 'age': 22, 'grade': 'A+'}\n",
      "{'name': 'kittu', 'age': 22, 'grade': 'A+', 'gender': 'male'}\n",
      "{'name': 'kittu', 'age': 22, 'grade': 'A+', 'gender': 'male', 'qualification': 'btech'}\n",
      "{'name': 'kittu', 'age': 22, 'grade': 'A+', 'gender': 'male', 'qualification': 'btech', 'address': 'warangal'}\n",
      "{'name': 'kittu', 'age': 22, 'grade': 'A+', 'gender': 'male', 'qualification': 'btech', 'address': 'warangal', 'college': 'Vaagdevi college'}\n"
     ]
    }
   ],
   "source": [
    "#modifiying an entry\n",
    "student={'name':'saikrishna',\n",
    "         'age': 64,\n",
    "         'grade':'c'\n",
    "        }\n",
    "student['age']=22\n",
    "print(student)\n",
    "\n",
    "student['name']='kittu'\n",
    "print(student) \n",
    "\n",
    "student['grade']='A+'\n",
    "print(student)\n",
    "\n",
    "#adding a new key\n",
    "student['gender']='male'\n",
    "print(student)\n",
    "\n",
    "student['qualification']='btech'\n",
    "print(student)\n",
    "\n",
    "student['address']='warangal'\n",
    "print(student)\n",
    "\n",
    "student['college']='Vaagdevi college'\n",
    "print(student)"
   ]
  },
  {
   "cell_type": "code",
   "execution_count": 75,
   "id": "6233e8ab-5149-4bc5-b438-5fdafe56c963",
   "metadata": {},
   "outputs": [
    {
     "name": "stdout",
     "output_type": "stream",
     "text": [
      "A\n",
      "male\n",
      "no value\n",
      "None\n",
      "vaagdevi college\n"
     ]
    }
   ],
   "source": [
    "#dictionary method\n",
    "#get()\n",
    "student={ 'name':'sai',\n",
    "          'gender':'male',   \n",
    "          'grade':'A',\n",
    "          'location':'warangal',\n",
    "          'qualification':'btech',\n",
    "          'college':'vaagdevi college',\n",
    "        }\n",
    "A=student.get('grade')\n",
    "B=student.get('gender','not specified',)\n",
    "C=student.get('bike','no value')\n",
    "D=student.get('class')\n",
    "E=student.get('college')\n",
    "print(A)\n",
    "print(B)\n",
    "print(C)\n",
    "print(D)\n",
    "print(E)"
   ]
  },
  {
   "cell_type": "code",
   "execution_count": 85,
   "id": "9397327c-116b-49b4-ac57-17f43635fd12",
   "metadata": {},
   "outputs": [
    {
     "name": "stdout",
     "output_type": "stream",
     "text": [
      "dict_keys(['name', 'gender', 'grade', 'location', 'qualification', 'college'])\n",
      "dict_keys(['job', 'salary'])\n"
     ]
    }
   ],
   "source": [
    "#keys\n",
    "student={ 'name':'sai',\n",
    "          'gender':'male',   \n",
    "          'grade':'A',\n",
    "          'location':'warangal',\n",
    "          'qualification':'btech',\n",
    "          'college':'vaagdevi college'\n",
    "        }\n",
    "key=student.keys()\n",
    "print(key)\n",
    "\n",
    "company={'job':'web developer',\n",
    "          'salary':'45k'\n",
    "        }\n",
    "print(company.keys())"
   ]
  },
  {
   "cell_type": "code",
   "execution_count": 101,
   "id": "5aa5d7e2-c1fc-4276-8957-9a96cea611a7",
   "metadata": {},
   "outputs": [
    {
     "name": "stdout",
     "output_type": "stream",
     "text": [
      "dict_values(['sai', 'male', 'A', 'warangal', 'btech', 'vaagdevi college'])\n",
      "dict_values(['web developer', '45k'])\n",
      "dict_values(['10', '6'])\n"
     ]
    }
   ],
   "source": [
    "#values()\n",
    "student={'name':'sai',\n",
    "          'gender':'male',   \n",
    "          'grade':'A',\n",
    "          'location':'warangal',\n",
    "          'qualification':'btech',\n",
    "          'college':'vaagdevi college'\n",
    "        }\n",
    "values=student.values()\n",
    "print(values)\n",
    "\n",
    "company={'job':'web developer',\n",
    "          'salary':'45k'\n",
    "        }\n",
    "values=company.values()\n",
    "print(values)\n",
    "\n",
    "classroom ={'student':'10',\n",
    "       'subject':'6'\n",
    "      }\n",
    "values= classroom.values()\n",
    "print(values)"
   ]
  },
  {
   "cell_type": "code",
   "execution_count": 111,
   "id": "fb6d94bb-a62e-416b-8ae4-f2f2e1f41a41",
   "metadata": {},
   "outputs": [
    {
     "name": "stdout",
     "output_type": "stream",
     "text": [
      "dict_items([('name', 'sai'), ('gender', 'male'), ('grade', 'A'), ('location', 'warangal'), ('qualification', 'btech'), ('college', 'vaagdevi college')])\n",
      "dict_items([('job', 'web developer'), ('salary', '45k')])\n",
      "dict_items([('student', '10'), ('subject', '6')])\n"
     ]
    }
   ],
   "source": [
    "#items()\n",
    "student={ 'name':'sai',\n",
    "          'gender':'male',   \n",
    "          'grade':'A',\n",
    "          'location':'warangal',\n",
    "          'qualification':'btech',\n",
    "          'college':'vaagdevi college'\n",
    "        }\n",
    "items=student.items()\n",
    "print(items)\n",
    "\n",
    "company={'job':'web developer',\n",
    "          'salary':'45k'\n",
    "        }\n",
    "items=company.items()\n",
    "print(items)\n",
    "\n",
    "classroom ={'student':'10',\n",
    "       'subject':'6'\n",
    "      }\n",
    "items=classroom.items()\n",
    "print(items)"
   ]
  },
  {
   "cell_type": "code",
   "execution_count": 117,
   "id": "47426375-4258-4605-b83b-42bc8c11b656",
   "metadata": {},
   "outputs": [
    {
     "name": "stdout",
     "output_type": "stream",
     "text": [
      "warangal\n",
      "vaagdevi college\n",
      "male\n"
     ]
    }
   ],
   "source": [
    "#pop() \n",
    "student={ 'name':'sai',\n",
    "          'gender':'male',   \n",
    "          'grade':'A',\n",
    "          'location':'warangal',\n",
    "          'qualification':'btech',\n",
    "          'college':'vaagdevi college'\n",
    "        }\n",
    "pop=student.pop('location')\n",
    "print(pop)\n",
    "\n",
    "student={ 'name':'sai',\n",
    "          'gender':'male',   \n",
    "          'grade':'A',\n",
    "          'location':'warangal',\n",
    "          'qualification':'btech',\n",
    "          'college':'vaagdevi college'\n",
    "        }\n",
    "pop=student.pop('college')\n",
    "print(pop)\n",
    "\n",
    "student={ 'name':'sai',\n",
    "          'gender':'male',   \n",
    "          'grade':'A',\n",
    "          'location':'warangal',\n",
    "          'qualification':'btech',\n",
    "          'college':'vaagdevi college'\n",
    "        }\n",
    "pop=student.pop('gender')\n",
    "print(pop)"
   ]
  },
  {
   "cell_type": "code",
   "execution_count": 131,
   "id": "e07a96b3-459e-40df-9b70-e4f9979c461a",
   "metadata": {},
   "outputs": [
    {
     "name": "stdout",
     "output_type": "stream",
     "text": [
      "('college', 'vaagdevi college')\n",
      "('salary', '45k')\n",
      "('college', 'vaagdevi college')\n",
      "('subject', '6')\n"
     ]
    }
   ],
   "source": [
    "#popitems()\n",
    "student={ 'name':'sai',\n",
    "          'gender':'male',   \n",
    "          'grade':'A',\n",
    "          'location':'warangal',\n",
    "          'qualification':'btech',\n",
    "          'college':'vaagdevi college'\n",
    "        }\n",
    "last_item=student.popitem()\n",
    "print(last_item)\n",
    "\n",
    "company={'job':'web developer',\n",
    "          'salary':'45k'\n",
    "        }\n",
    "last_item=company.popitem()\n",
    "print(last_item)\n",
    "\n",
    "student={ 'name':'sai',\n",
    "          'gender':'male',   \n",
    "          'grade':'A',\n",
    "          'location':'warangal',\n",
    "          'qualification':'btech',\n",
    "          'college':'vaagdevi college'\n",
    "        }\n",
    "last_item=student.popitem()\n",
    "print(last_item)\n",
    "\n",
    "classroom ={'student':'10',\n",
    "       'subject':'6'\n",
    "      }\n",
    "last_item=classroom.popitem()\n",
    "print(last_item)"
   ]
  },
  {
   "cell_type": "code",
   "execution_count": 141,
   "id": "f062030a-5719-47aa-8c15-6394b57c4ceb",
   "metadata": {},
   "outputs": [
    {
     "name": "stdout",
     "output_type": "stream",
     "text": [
      "{'name': 'kittu', 'gender': 'male', 'grade': 'A+', 'location': 'warangal', 'qualification': 'btech', 'college': 'vaagdevi college'}\n",
      "{'name': 'sai', 'gender': 'male', 'grade': 'A', 'location': 'hyderabad', 'qualification': 'btech', 'college': 'vaagdevi college'}\n",
      "{'name': 'sai', 'gender': 'male', 'grade': 'A', 'location': 'warangal', 'qualification': 'mtech', 'college': 'vaagdevi college'}\n"
     ]
    }
   ],
   "source": [
    "#update()\n",
    "student={ 'name':'sai',\n",
    "          'gender':'male',   \n",
    "          'grade':'A',\n",
    "          'location':'warangal',\n",
    "          'qualification':'btech',\n",
    "          'college':'vaagdevi college'\n",
    "        }\n",
    "new_data={'name':'kittu','grade':'A+'}\n",
    "student.update(new_data)\n",
    "print(student)\n",
    "\n",
    "student={ 'name':'sai',\n",
    "          'gender':'male',   \n",
    "          'grade':'A',\n",
    "          'location':'warangal',\n",
    "          'qualification':'btech',\n",
    "          'college':'vaagdevi college'\n",
    "        }\n",
    "new_data={'location':'hyderabad'}\n",
    "student.update(new_data)\n",
    "print(student)\n",
    "\n",
    "student={ 'name':'sai',\n",
    "          'gender':'male',   \n",
    "          'grade':'A',\n",
    "          'location':'warangal',\n",
    "          'qualification':'btech',\n",
    "          'college':'vaagdevi college'\n",
    "        }\n",
    "new_data={'qualification':'mtech'}\n",
    "student.update(new_data)\n",
    "print(student)"
   ]
  },
  {
   "cell_type": "code",
   "execution_count": null,
   "id": "3ea6cc7e-ad3e-43d1-befc-765f08d43c23",
   "metadata": {},
   "outputs": [],
   "source": []
  }
 ],
 "metadata": {
  "kernelspec": {
   "display_name": "Python 3 (ipykernel)",
   "language": "python",
   "name": "python3"
  },
  "language_info": {
   "codemirror_mode": {
    "name": "ipython",
    "version": 3
   },
   "file_extension": ".py",
   "mimetype": "text/x-python",
   "name": "python",
   "nbconvert_exporter": "python",
   "pygments_lexer": "ipython3",
   "version": "3.12.4"
  }
 },
 "nbformat": 4,
 "nbformat_minor": 5
}
