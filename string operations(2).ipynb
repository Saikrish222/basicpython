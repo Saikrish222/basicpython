{
 "cells": [
  {
   "cell_type": "code",
   "execution_count": 1,
   "id": "2457704d-b19a-4c74-b38c-f9beff67b684",
   "metadata": {},
   "outputs": [
    {
     "name": "stdout",
     "output_type": "stream",
     "text": [
      "hey sai\n",
      "hello world\n",
      "teks academy\n",
      "rohit sharma\n",
      "team india\n"
     ]
    }
   ],
   "source": [
    "#string operations\n",
    "#concatenation(combining two or more strings)\n",
    "str1 =\"hey\"\n",
    "str2 =\"sai\"\n",
    "str3=\"hello\"\n",
    "str4=\"world\"\n",
    "str5=\"teks\"\n",
    "str6=\"academy\"\n",
    "str7=\"rohit\"\n",
    "str8=\"sharma\"\n",
    "str9=\"team\"\n",
    "str10=\"india\"\n",
    "print(str1+\" \"+str2)\n",
    "print(str3+\" \"+str4)\n",
    "print(str5+\" \"+str6)\n",
    "print(str7+\" \"+str8)\n",
    "print(str9+\" \"+str10)"
   ]
  },
  {
   "cell_type": "code",
   "execution_count": 47,
   "id": "0bebfa05-55cc-4e55-baae-59b8b4a10c33",
   "metadata": {},
   "outputs": [
    {
     "name": "stdout",
     "output_type": "stream",
     "text": [
      " jai shri ram jai shri ram\n",
      "  Thank you  Thank you  Thank you  Thank you  Thank you  Thank you  Thank you  Thank you  Thank you  Thank you\n",
      "Welcome to india\n",
      "Welcome to indiaWelcome to india\n",
      "Welcome to indiaWelcome to indiaWelcome to india\n",
      "Breaking NewsBreaking NewsBreaking NewsBreaking NewsBreaking NewsBreaking NewsBreaking NewsBreaking NewsBreaking NewsBreaking NewsBreaking NewsBreaking NewsBreaking NewsBreaking NewsBreaking NewsBreaking NewsBreaking NewsBreaking NewsBreaking NewsBreaking News\n"
     ]
    }
   ],
   "source": [
    "#repetation(repeating a string multiple times)\n",
    "A =\" jai shri ram\"\n",
    "result =A *2\n",
    "print(result)\n",
    "\n",
    "A =\"  Thank\"\n",
    "B =\"you\"\n",
    "result =A+\" \"+B\n",
    "print(result *10)\n",
    "\n",
    "X = \"Welcome to india\"\n",
    "result1=X *1\n",
    "result2= X * 2\n",
    "result3=X  *  3\n",
    "print(result1)\n",
    "print(result2)\n",
    "print(result3)\n",
    "\n",
    "X=\"Breaking\"\n",
    "Y=\"News\"\n",
    "repetation= X+\" \"+ Y\n",
    "print(repetation *20)\n"
   ]
  },
  {
   "cell_type": "code",
   "execution_count": 3,
   "id": "5068aecc-616a-4861-b0c3-b728bd9b0501",
   "metadata": {},
   "outputs": [
    {
     "name": "stdout",
     "output_type": "stream",
     "text": [
      "a\n",
      "m\n",
      "o\n",
      "z\n",
      "z\n",
      "b\n",
      "c\n",
      "l\n",
      "j\n"
     ]
    }
   ],
   "source": [
    "#indexing(accessing individual character in a string)\n",
    "my_string =\"cricket is a great game\"\n",
    "print(my_string[11])\n",
    "print(my_string[-2])\n",
    "\n",
    "my_string =\"wheather is so cool\"\n",
    "print(my_string[-6])\n",
    "\n",
    "str=\"abcdefghijklmnopqrstuvwxyz\"\n",
    "print(str[25])\n",
    "print(str[-1])\n",
    "print(str[1])\n",
    "print(str[2])\n",
    "print(str[-15])\n",
    "print(str[9])"
   ]
  },
  {
   "cell_type": "code",
   "execution_count": 59,
   "id": "c3e96a4d-5def-4fb5-8177-e4aa0daf7631",
   "metadata": {},
   "outputs": [
    {
     "name": "stdout",
     "output_type": "stream",
     "text": [
      "na\n",
      "sai\n",
      "vamsi\n"
     ]
    }
   ],
   "source": [
    "#slicing(etracting a substring from a string)\n",
    "my_string1 =\"pranaykumar reddy\"\n",
    "my_string2=\"ygyfakjfygksaidfy\"\n",
    "A=\"gewgyevamsiycdg\"\n",
    "\n",
    "result1 =(my_string1[3:5])\n",
    "result2=(my_string2[11:15])\n",
    "result=(A[6:11])\n",
    "print(result1)\n",
    "print(result2)\n",
    "print("
   ]
  },
  {
   "cell_type": "code",
   "execution_count": null,
   "id": "4a787225-2121-4ce1-b96d-7ac50760f12e",
   "metadata": {},
   "outputs": [],
   "source": []
  }
 ],
 "metadata": {
  "kernelspec": {
   "display_name": "Python 3 (ipykernel)",
   "language": "python",
   "name": "python3"
  },
  "language_info": {
   "codemirror_mode": {
    "name": "ipython",
    "version": 3
   },
   "file_extension": ".py",
   "mimetype": "text/x-python",
   "name": "python",
   "nbconvert_exporter": "python",
   "pygments_lexer": "ipython3",
   "version": "3.12.4"
  }
 },
 "nbformat": 4,
 "nbformat_minor": 5
}
