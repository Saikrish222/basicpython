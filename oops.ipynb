{
 "cells": [
  {
   "cell_type": "code",
   "execution_count": 74,
   "id": "8d6fa261-3d54-4e97-833f-ee7da439d815",
   "metadata": {},
   "outputs": [
    {
     "name": "stdout",
     "output_type": "stream",
     "text": [
      "5\n",
      "2.25\n",
      "2j\n"
     ]
    }
   ],
   "source": [
    "#python classes/object\n",
    "class Myclass:#creating a class\n",
    "    x=5\n",
    "obj1 = Myclass()#creating object\n",
    "print(obj1.x)\n",
    "\n",
    "class Myclass:\n",
    "    x = 2.25\n",
    "obj2 = Myclass()\n",
    "print(obj2.x)\n",
    "\n",
    "class Myclass:\n",
    "    x = 2j\n",
    "obj3 = Myclass()\n",
    "print(obj3.x)"
   ]
  },
  {
   "cell_type": "code",
   "execution_count": 102,
   "id": "7634e77c-6f77-47e0-9eb8-3a881adb808c",
   "metadata": {},
   "outputs": [
    {
     "name": "stdout",
     "output_type": "stream",
     "text": [
      "maxi is 3 years old.\n",
      "snuppy is 4 years old.\n",
      "woolf\n",
      "woolf\n"
     ]
    }
   ],
   "source": [
    "class Dog:\n",
    "    def __init__(self,name,age):\n",
    "        self.name = name\n",
    "        self.age = age\n",
    "    def bark (self):\n",
    "            print(\"woolf\")\n",
    "#creating object\n",
    "dog1 = Dog(\"maxi\", 3)\n",
    "dog2 = Dog(\"snuppy\", 4)\n",
    "\n",
    "#accessing object attributes and calling methods \n",
    "print(f\"{dog1.name} is {dog1.age} years old.\")\n",
    "print(f\"{dog2.name} is {dog2.age} years old.\")\n",
    "dog1.bark()\n",
    "dog2.bark()\n",
    "        "
   ]
  },
  {
   "cell_type": "code",
   "execution_count": 12,
   "id": "379024eb-d263-4a82-aa64-03627c78e3e1",
   "metadata": {},
   "outputs": [
    {
     "name": "stdout",
     "output_type": "stream",
     "text": [
      "kittu scored 73 marks.\n",
      "vasu scored 85 marks.\n",
      "pranay\n",
      "pranay\n"
     ]
    }
   ],
   "source": [
    "class Boy:\n",
    "    def __init__(self,name,marks):\n",
    "        self.name = name\n",
    "        self.marks = marks\n",
    "    def topper(self):\n",
    "        print(\"pranay\")\n",
    "        \n",
    "#creating object for class\n",
    "boy1 = Boy(\"kittu\",73)\n",
    "boy2 = Boy(\"vasu\",85)\n",
    "\n",
    "#accessing object attributes and calling methods \n",
    "print(f\"{boy1.name} scored {boy1.marks} marks.\")\n",
    "print(f\"{boy2.name} scored {boy2.marks} marks.\")\n",
    "boy1.topper()\n",
    "boy2.topper()"
   ]
  },
  {
   "cell_type": "code",
   "execution_count": 31,
   "id": "b7986c5a-2a16-4bfb-bd7d-266ff039937b",
   "metadata": {},
   "outputs": [
    {
     "name": "stdout",
     "output_type": "stream",
     "text": [
      "<__main__.company object at 0x000001B9E03ED580>\n"
     ]
    }
   ],
   "source": [
    "#init () function\n",
    "class company:\n",
    "    def __init__(self,name,age):\n",
    "        self.name = name\n",
    "        self.age = age\n",
    "     \n",
    "#creating the company object\n",
    "my_company = company(name=\"kittu\",age=\"22\")\n",
    "print(my_company)"
   ]
  },
  {
   "cell_type": "code",
   "execution_count": null,
   "id": "ec01773e-bf19-4a30-8485-979d138a4a29",
   "metadata": {},
   "outputs": [],
   "source": []
  }
 ],
 "metadata": {
  "kernelspec": {
   "display_name": "Python 3 (ipykernel)",
   "language": "python",
   "name": "python3"
  },
  "language_info": {
   "codemirror_mode": {
    "name": "ipython",
    "version": 3
   },
   "file_extension": ".py",
   "mimetype": "text/x-python",
   "name": "python",
   "nbconvert_exporter": "python",
   "pygments_lexer": "ipython3",
   "version": "3.12.4"
  }
 },
 "nbformat": 4,
 "nbformat_minor": 5
}
