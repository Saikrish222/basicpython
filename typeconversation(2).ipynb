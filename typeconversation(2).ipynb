{
 "cells": [
  {
   "cell_type": "code",
   "execution_count": 1,
   "id": "da63ca9e-a684-4a6f-a376-f9bb65f49910",
   "metadata": {},
   "outputs": [
    {
     "name": "stdout",
     "output_type": "stream",
     "text": [
      "<class 'int'>\n",
      "<class 'float'>\n",
      "<class 'complex'>\n"
     ]
    }
   ],
   "source": [
    "x=35\n",
    "y=4.22\n",
    "z=1+2j\n",
    "print(type(x))\n",
    "print(type(y))\n",
    "print(type(z))"
   ]
  },
  {
   "cell_type": "code",
   "execution_count": 5,
   "id": "3c9e89e7-c038-4ac1-8f51-8e8283c4baf3",
   "metadata": {},
   "outputs": [
    {
     "name": "stdout",
     "output_type": "stream",
     "text": [
      "10.0\n",
      "12.0\n",
      "14.0\n",
      "(10+0j)\n",
      "(12+0j)\n",
      "(14+0j)\n"
     ]
    }
   ],
   "source": [
    "a=10\n",
    "b=12\n",
    "c=14\n",
    "#from int to float\n",
    "a_intf=float(a)\n",
    "b_intf=float(b)\n",
    "c_intf=float(c)\n",
    "print(a_intf)\n",
    "print(b_intf)\n",
    "print(c_intf)\n",
    "#from int to complex\n",
    "a_intc=complex(a)\n",
    "b_intc=complex(b)\n",
    "c_intc=complex(c)\n",
    "print(a_intc)\n",
    "print(b_intc)\n",
    "print(c_intc)"
   ]
  },
  {
   "cell_type": "code",
   "execution_count": null,
   "id": "70b1f8db-1eaa-4193-ab46-db168cd108d1",
   "metadata": {},
   "outputs": [],
   "source": []
  },
  {
   "cell_type": "code",
   "execution_count": null,
   "id": "e50c4f0d-4eec-44f2-97ac-d84e223e12d5",
   "metadata": {},
   "outputs": [],
   "source": []
  }
 ],
 "metadata": {
  "kernelspec": {
   "display_name": "Python 3 (ipykernel)",
   "language": "python",
   "name": "python3"
  },
  "language_info": {
   "codemirror_mode": {
    "name": "ipython",
    "version": 3
   },
   "file_extension": ".py",
   "mimetype": "text/x-python",
   "name": "python",
   "nbconvert_exporter": "python",
   "pygments_lexer": "ipython3",
   "version": "3.12.4"
  }
 },
 "nbformat": 4,
 "nbformat_minor": 5
}
