{
 "cells": [
  {
   "cell_type": "code",
   "execution_count": 9,
   "id": "16ff34e2-74aa-4805-8a40-9c322d67eb6e",
   "metadata": {},
   "outputs": [
    {
     "name": "stdout",
     "output_type": "stream",
     "text": [
      "12\n",
      "26\n",
      "16\n",
      "10\n",
      "4\n",
      "7\n",
      "5\n",
      "6\n",
      "5\n",
      "6\n"
     ]
    }
   ],
   "source": [
    "#string method\n",
    "#len()\n",
    "A = \"Thirothamala\"\n",
    "B = \"abcdefghijklmnopqrstuvwxyz\"\n",
    "C=\"errehiuoeyfoeiql\"\n",
    "D=\"saikrishna\"\n",
    "E=\"teks\"\n",
    "F=\"cricket\"\n",
    "G=\"rohit\"\n",
    "H=\"sharma\"\n",
    "I=\"kittu\"\n",
    "J=\"  hai \"\n",
    "length1=len(A)\n",
    "length2=len(B)\n",
    "length3=len(C)\n",
    "length4=len(D)\n",
    "length5=len(E)\n",
    "length6=len(F)\n",
    "length7=len(G)\n",
    "length8=len(H)\n",
    "length9=len(I)\n",
    "length10=len(J)\n",
    "print(length1)\n",
    "print(length2)\n",
    "print(length3)\n",
    "print(length4)\n",
    "print(length5)\n",
    "print(length6)\n",
    "print(length7)\n",
    "print(length8)\n",
    "print(length9)\n",
    "print(length10)"
   ]
  },
  {
   "cell_type": "code",
   "execution_count": 17,
   "id": "c9b2e9fd-4fe7-4ba1-8c80-3bb695a738d9",
   "metadata": {},
   "outputs": [
    {
     "name": "stdout",
     "output_type": "stream",
     "text": [
      "WELCOME2\n",
      "thankyou\n",
      "YES\n",
      "no\n",
      "SAIKRISHNA\n",
      "TEKS\n",
      "LOWER\n",
      "upper\n",
      "SAI7\n",
      "BYE\n"
     ]
    }
   ],
   "source": [
    "#lower()/upper()\n",
    "str1 = \"welcome2\"\n",
    "str2 = \"THANKYOU\" \n",
    "str3=\"yes\"\n",
    "str4=\"NO\"\n",
    "str5=\"saikrishna\"\n",
    "str6=\"teks\"\n",
    "str7=\"lower\"\n",
    "str8=\"UPPER\"\n",
    "str9=\"sai7\"\n",
    "str10=\"bye\"\n",
    "print(str1.upper())\n",
    "print(str2.lower())\n",
    "print(str3.upper())\n",
    "print(str4.lower())\n",
    "print(str5.upper())\n",
    "print(str6.upper())\n",
    "print(str7.upper())\n",
    "print(str8.lower())\n",
    "print(str9.upper())\n",
    "print(str10.upper())"
   ]
  },
  {
   "cell_type": "code",
   "execution_count": 1,
   "id": "5edf90e9-46fc-42c1-bae0-335750988e93",
   "metadata": {},
   "outputs": [
    {
     "name": "stdout",
     "output_type": "stream",
     "text": [
      "kittu\n",
      "hai sir\n",
      "golconda\n",
      "&ravila\n",
      "chinni\n",
      "/yes\n",
      "python course\n",
      "3.10.2\n",
      "A B C D\n",
      "pavan\n"
     ]
    }
   ],
   "source": [
    "#strip(removes white spaces)\n",
    "str1 =\"  kittu  \"\n",
    "str2 =\"                                        hai sir        \"\n",
    "str3 =\"                        golconda \"\n",
    "str4 =\"    &ravila  \"\n",
    "str5 =\"chinni    \"\n",
    "str6 =\"    /yes \"\n",
    "str7 =\"                                                              python course\"\n",
    "str8 =\" 3.10.2    \"\n",
    "str9 =\"                               A B C D \"\n",
    "str10 =\"pavan\"\n",
    "print(str1.strip())\n",
    "print(str2.strip())\n",
    "print(str3.strip())\n",
    "print(str4.strip())\n",
    "print(str5.strip())\n",
    "print(str6.strip())\n",
    "print(str7.strip())\n",
    "print(str8.strip())\n",
    "print(str9.strip())\n",
    "print(str10.strip())"
   ]
  },
  {
   "cell_type": "code",
   "execution_count": 13,
   "id": "028b2c03-a521-4312-9f05-0cc410de70bc",
   "metadata": {},
   "outputs": [
    {
     "name": "stdout",
     "output_type": "stream",
     "text": [
      "hello,world\n",
      "1,2,3,4\n",
      "python\n"
     ]
    }
   ],
   "source": [
    "#replace()#old value,new value\n",
    "my_string1 = \"hello,hai\"\n",
    "my_string2 = \"1,2,3,5\"\n",
    "my_string3 = \"pythos\"\n",
    "new_string1 = my_string1.replace(\"hai\",\"world\")\n",
    "new_string2 = my_string2.replace(\"5\",\"4\")\n",
    "new_string3 = my_string3.replace(\"s\",\"n\")\n",
    "print(new_string1)\n",
    "print(new_string2)\n",
    "print(new_string3)"
   ]
  },
  {
   "cell_type": "code",
   "execution_count": 23,
   "id": "adb4036e-5f1c-4752-b348-1a804272f594",
   "metadata": {},
   "outputs": [
    {
     "name": "stdout",
     "output_type": "stream",
     "text": [
      "['vamshi', 'is', 'a', 'bad', 'boy', 'but', 'good', 'in', 'studies']\n",
      "['tata', 'punch', 'car', 'looking', 'good', 'but', 'milege', 'is', 'low']\n",
      "['1', '2', '3', '4', '5', '6', '7', '8', '9']\n",
      "['TCS', 'is', 'the', 'multi', 'national', 'corporation']\n"
     ]
    }
   ],
   "source": [
    "#split(split the string into a list of substring)\n",
    "A = \"vamshi is a bad boy but good in studies\"\n",
    "words = A.split()\n",
    "print(words)\n",
    "\n",
    "B = \"tata punch car looking good but milege is low\"\n",
    "words = B.split()\n",
    "print(words)\n",
    "\n",
    "C = \"1 2 3 4 5 6 7 8 9\"\n",
    "words = C.split()\n",
    "print(words)\n",
    "\n",
    "D = \" TCS is the multi national corporation\"\n",
    "words = D.split()\n",
    "print(words)"
   ]
  },
  {
   "cell_type": "code",
   "execution_count": 29,
   "id": "70c47a94-2ab2-4feb-bf68-b65bed7f9527",
   "metadata": {},
   "outputs": [
    {
     "name": "stdout",
     "output_type": "stream",
     "text": [
      "CRICKET\n",
      "ROHITSHARMA\n",
      "6305581566\n",
      "information  technology consulting company\n"
     ]
    }
   ],
   "source": [
    "#join(joins a list of string into a single)\n",
    "words = ['C''R''I''C''K''E''T']\n",
    "joined_string = ' '.join(words)\n",
    "print(joined_string)\n",
    "\n",
    "words = ['R''O''H''I''T''S''H''A''R''M''A']\n",
    "joined_string = ' '.join(words)\n",
    "print(joined_string)\n",
    "\n",
    "numbers = ['6''3''0''5''5''8''1''5''6''6']\n",
    "joined_string = ' '.join(numbers)\n",
    "print(joined_string)\n",
    "\n",
    "str = 'information  ' 'technology '  'consulting ' 'company'\n",
    "joined_string =''.join(str)\n",
    "print(joined_string)"
   ]
  },
  {
   "cell_type": "code",
   "execution_count": 35,
   "id": "2ef8ea15-cef2-4963-9178-36fc08f403d3",
   "metadata": {},
   "outputs": [
    {
     "name": "stdout",
     "output_type": "stream",
     "text": [
      "programming language\n",
      "open soure\n"
     ]
    }
   ],
   "source": [
    "#casefold()\n",
    "str1 =\"pROgramming LANGuagE\"\n",
    "lowercased_string = str1.casefold()\n",
    "print(lowercased_string)\n",
    "\n",
    "str2 =\"opEN sourE\"\n",
    "lowercased_string =str2.casefold()\n",
    "print(lowercased_string)"
   ]
  },
  {
   "cell_type": "code",
   "execution_count": 39,
   "id": "df6cfec6-404a-4511-b1bd-95febedb2f54",
   "metadata": {},
   "outputs": [
    {
     "name": "stdout",
     "output_type": "stream",
     "text": [
      "3\n",
      "1\n"
     ]
    }
   ],
   "source": [
    "#count()\n",
    "str1 = \"python is a open source\"\n",
    "print(str1.count('o'))\n",
    "\n",
    "str2 = \"data structured algorithms\"\n",
    "print(str2.count('i'))"
   ]
  }
 ],
 "metadata": {
  "kernelspec": {
   "display_name": "Python 3 (ipykernel)",
   "language": "python",
   "name": "python3"
  },
  "language_info": {
   "codemirror_mode": {
    "name": "ipython",
    "version": 3
   },
   "file_extension": ".py",
   "mimetype": "text/x-python",
   "name": "python",
   "nbconvert_exporter": "python",
   "pygments_lexer": "ipython3",
   "version": "3.12.4"
  }
 },
 "nbformat": 4,
 "nbformat_minor": 5
}
