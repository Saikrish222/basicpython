{
 "cells": [
  {
   "cell_type": "code",
   "execution_count": 31,
   "id": "4cf909a2-a83b-4583-847a-93e9ac90c558",
   "metadata": {},
   "outputs": [
    {
     "name": "stdout",
     "output_type": "stream",
     "text": [
      "number is positive\n",
      "number is yes\n",
      "number is false\n",
      "number is incorrect\n"
     ]
    }
   ],
   "source": [
    "#if else condition:\n",
    "number= 88\n",
    "if number >0: #check if number is grater than o\n",
    "    print('number is positive')\n",
    "\n",
    "else:\n",
    "    print ('number is negative')\n",
    "\n",
    "number = -45\n",
    "if number <0:\n",
    "    print('number is yes')\n",
    "\n",
    "else:\n",
    "    print('number is no')\n",
    "\n",
    "number =  -45\n",
    "if number ==45:\n",
    "    print('number is true')\n",
    "\n",
    "else:\n",
    "    print('number is false')\n",
    "\n",
    "number = 0\n",
    "if number >0:\n",
    "    print('number is correct')\n",
    "\n",
    "else:\n",
    "    print('number is incorrect')"
   ]
  },
  {
   "cell_type": "code",
   "execution_count": 78,
   "id": "98e32d2a-0c95-4273-99ab-13ad36f1adc7",
   "metadata": {},
   "outputs": [
    {
     "name": "stdin",
     "output_type": "stream",
     "text": [
      "Enter your score 72\n"
     ]
    },
    {
     "name": "stdout",
     "output_type": "stream",
     "text": [
      "your grade is B\n"
     ]
    }
   ],
   "source": [
    "#task \n",
    "score = int(input(\"Enter your score\"))\n",
    "if score >100:\n",
    "    grade = 'A+'\n",
    "elif score >90:\n",
    "    grade = 'A'\n",
    "elif score >80:\n",
    "    grade = 'B+'\n",
    "elif score >70:\n",
    "    grade = 'B'\n",
    "elif score >60:\n",
    "    grade = 'C+'\n",
    "elif score >50:\n",
    "    grade = 'C'\n",
    "elif score >40:\n",
    "    grade = 'F'\n",
    "\n",
    "print(f\"your grade is {grade}\")"
   ]
  },
  {
   "cell_type": "code",
   "execution_count": 4,
   "id": "5c81aa4e-e1ba-4997-bdbb-7d87cdb025fd",
   "metadata": {},
   "outputs": [
    {
     "name": "stdout",
     "output_type": "stream",
     "text": [
      "Eligible: [34, 78, 23, 100, 99, 45]\n",
      "Not Eligible: [5, 9, 15, 1]\n"
     ]
    }
   ],
   "source": [
    "#Task1\n",
    "ages = [34,5,78,23,100,9,99,15,45,1]\n",
    "eligible =[]\n",
    "not_eligible=[]\n",
    "if ages[0] >=18:\n",
    "    eligible.append(ages[0])\n",
    "else: \n",
    "    not_eligible.append(ages[0])\n",
    "if ages[1] >=18:\n",
    "    eligible.append(ages[1])\n",
    "else:\n",
    "    not_eligible.append(ages[1])\n",
    "if ages[2] >=18:\n",
    "    eligible.append(ages[2])\n",
    "else:\n",
    "    not_eligible.append(ages[2])\n",
    "if ages[3] >=18:\n",
    "    eligible.append(ages[3])\n",
    "else:\n",
    "    not_eligible.append(ages[3])\n",
    "if ages[4] >=18:\n",
    "    eligible.append(ages[4])\n",
    "else:\n",
    "    not_eligible.append(ages[4])\n",
    "if ages[5] >=18:\n",
    "    eligible.append(ages[5])\n",
    "else:\n",
    "    not_eligible.append(ages[5])\n",
    "if ages[6] >=18:\n",
    "    eligible.append(ages[6])\n",
    "else:\n",
    "    not_eligible.append(ages[6])\n",
    "if ages[7] >=18:\n",
    "    eligible.append(ages[7])\n",
    "else:\n",
    "    not_eligible.append(ages[7])\n",
    "if ages[8] >=18:\n",
    "    eligible.append(ages[8])\n",
    "else:\n",
    "    not_eligible.append(ages[8])\n",
    "if ages[9] >=18:\n",
    "    eligible.append(ages[9])\n",
    "else:\n",
    "    not_eligible.append(ages[9])\n",
    "                         \n",
    "print(\"Eligible:\",eligible)\n",
    "print(\"Not Eligible:\",not_eligible)"
   ]
  },
  {
   "cell_type": "code",
   "execution_count": 16,
   "id": "eaf6c6f1-b944-4b43-a6b7-b40757f5d83b",
   "metadata": {},
   "outputs": [
    {
     "name": "stdin",
     "output_type": "stream",
     "text": [
      "WELCOME TO PRANAY RESTAURANT\n",
      "Press 1 for Veg items\n",
      "Press 2 for Non-Veg items\n",
      " 2\n"
     ]
    },
    {
     "name": "stdout",
     "output_type": "stream",
     "text": [
      "Please select the items you want:\n"
     ]
    },
    {
     "name": "stdin",
     "output_type": "stream",
     "text": [
      "1.Mutton biryani , 2.Chicken biryani , 3.Prawns biryani , 4.Fish biryani\n",
      " 1\n"
     ]
    },
    {
     "name": "stdout",
     "output_type": "stream",
     "text": [
      "Your item 'Mutton Biryani' is getting ready, Please wait for few minutes..\n",
      "Thank you\n"
     ]
    }
   ],
   "source": [
    "#Task3\n",
    "#Restaurant Program\n",
    "items = int(input(\"WELCOME TO PRANAY RESTAURANT\\nPress 1 for Veg items\\nPress 2 for Non-Veg items\\n\"))\n",
    "if items == 1:\n",
    "    print(\"Please select the items you want:\")\n",
    "    vegitems = int(input(\"1.Paneer pulao, 2.Sambar rice , 3.Curd rice , 4.Ragisangati\\n\"))\n",
    "    if vegitems == 1:\n",
    "        print(\"Your item 'Panner pulao' is getting ready, Please wait for few minutes..\\nThank you\")\n",
    "    elif vegitems == 2:\n",
    "        print(\"Your item 'Sambar rice' is getting ready, Please wait for few minutes..\\nThank you\")\n",
    "    elif vegitems == 3:\n",
    "        print(\"Your item 'Curd rice' is getting ready, Please wait for few minutes..\\nThank you\")\n",
    "    elif vegitems == 4:\n",
    "        print(\"Your item 'Ragisangati' is getting ready, Please wait for few minutes..\\nThank you\")    \n",
    "    else :\n",
    "        print(\"sorry, wrong input\")\n",
    "elif items == 2:\n",
    "    print(\"Please select the items you want:\")\n",
    "    nonvegitems = int(input(\"1.Mutton biryani , 2.Chicken biryani , 3.Prawns biryani , 4.Fish biryani\\n\"))\n",
    "    if nonvegitems == 1:\n",
    "        print(\"Your item 'Mutton Biryani' is getting ready, Please wait for few minutes..\\nThank you\")\n",
    "    elif nonvegitems == 2:\n",
    "        print(\"Your item 'Chicken Biryani' is getting ready, Please wait for few minutes..\\nThank you\")\n",
    "    elif nonvegitems == 3:\n",
    "        print(\"Your item 'Prawns Biryani' is getting ready, Please wait fr few minutes..\\nThank you\")\n",
    "    elif nonvegitems == 4:\n",
    "        print(\"Your item 'Fish Biryani' is getting ready, Please wait for few minutes..\\nThank you\")\n",
    "    else :\n",
    "        print(\"sorry, wrong input\")"
   ]
  },
  {
   "cell_type": "code",
   "execution_count": null,
   "id": "9a07ee4f-1ebe-4b3c-8311-16080f8eb80f",
   "metadata": {},
   "outputs": [],
   "source": []
  }
 ],
 "metadata": {
  "kernelspec": {
   "display_name": "Python 3 (ipykernel)",
   "language": "python",
   "name": "python3"
  },
  "language_info": {
   "codemirror_mode": {
    "name": "ipython",
    "version": 3
   },
   "file_extension": ".py",
   "mimetype": "text/x-python",
   "name": "python",
   "nbconvert_exporter": "python",
   "pygments_lexer": "ipython3",
   "version": "3.12.4"
  }
 },
 "nbformat": 4,
 "nbformat_minor": 5
}
