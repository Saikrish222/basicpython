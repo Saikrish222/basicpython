{
 "cells": [
  {
   "cell_type": "code",
   "execution_count": 56,
   "id": "cd9ae900-cc23-427e-83be-8b82115d6e93",
   "metadata": {},
   "outputs": [
    {
     "name": "stdin",
     "output_type": "stream",
     "text": [
      "Enter the number -77\n"
     ]
    },
    {
     "name": "stdout",
     "output_type": "stream",
     "text": [
      "number is odd\n"
     ]
    }
   ],
   "source": [
    "#function to check if number is odd or even\n",
    "number = int(input(\"Enter the number\"))\n",
    "if number % 2 == 0:\n",
    "    print(\"number is even\")\n",
    "else:\n",
    "    print(\"number is odd\")"
   ]
  },
  {
   "cell_type": "code",
   "execution_count": 3,
   "id": "1c982e43-d132-4837-8e81-6a34945aba90",
   "metadata": {},
   "outputs": [
    {
     "name": "stdin",
     "output_type": "stream",
     "text": [
      "enter the A value  66\n",
      "enter the B value  98\n",
      "enter the C value  34\n"
     ]
    },
    {
     "name": "stdout",
     "output_type": "stream",
     "text": [
      "98 is greater than among three\n"
     ]
    }
   ],
   "source": [
    "#finding largest among three\n",
    "a = int(input(\"enter the A value \"))\n",
    "b = int(input(\"enter the B value \"))\n",
    "c = int(input(\"enter the C value \"))\n",
    "if a>b and a>c:\n",
    "    print(a ,\" is greater than among three\")\n",
    "elif b>a and b>c:\n",
    "    print(b,\"is greater than among three\")\n",
    "else:\n",
    "    print (c,\"is greater than among three\")"
   ]
  },
  {
   "cell_type": "code",
   "execution_count": 7,
   "id": "41f2a999-b177-4570-b93a-b3557c206fd4",
   "metadata": {},
   "outputs": [
    {
     "name": "stdin",
     "output_type": "stream",
     "text": [
      "enter the A value  99\n",
      "enter the B value  98\n",
      "enter the C value  97\n"
     ]
    },
    {
     "name": "stdout",
     "output_type": "stream",
     "text": [
      "97 is smallest than among three\n"
     ]
    }
   ],
   "source": [
    "#finding the smallest among three\n",
    "a = int(input(\"enter the A value \"))\n",
    "b = int(input(\"enter the B value \"))\n",
    "c = int(input(\"enter the C value \"))\n",
    "if a<b and a<c:\n",
    "    print(a ,\" is smallest than among three\")\n",
    "elif b<a and b<c:\n",
    "    print(b,\"is smallest than among three\")\n",
    "else:\n",
    "    print (c,\"is smallest than among three\")"
   ]
  },
  {
   "cell_type": "code",
   "execution_count": 21,
   "id": "e8d6dcef-4f6d-497e-a74b-687f396d4bbd",
   "metadata": {},
   "outputs": [
    {
     "name": "stdin",
     "output_type": "stream",
     "text": [
      "Enter the year  2000\n"
     ]
    },
    {
     "name": "stdout",
     "output_type": "stream",
     "text": [
      "Entered year 2000 is a leap year \n"
     ]
    }
   ],
   "source": [
    "#checking leap or not \n",
    "year = int(input(\"Enter the year \"))\n",
    "if (year % 400 == 0 and year % 100 == 0):\n",
    "    print(\"Entered year {} is a leap year \".format(year))\n",
    "elif(year % 4 == 0 and year % 100 == 0):\n",
    "    print(\"Entered year {} is a leap year \".format(year))\n",
    "else:\n",
    "     print(\"Entered year {} is Not a leap year \".format(year))"
   ]
  },
  {
   "cell_type": "code",
   "execution_count": 1,
   "id": "9b6f542a-493d-467a-b4b6-58521a0727ee",
   "metadata": {},
   "outputs": [
    {
     "name": "stdin",
     "output_type": "stream",
     "text": [
      "Enter the month number 10\n"
     ]
    },
    {
     "name": "stdout",
     "output_type": "stream",
     "text": [
      "This month have 31 days\n"
     ]
    }
   ],
   "source": [
    "#finding number of days in month\n",
    "month = int(input(\"Enter the month number\"))\n",
    "if month == 4 or month == 6 or month ==9 or month == 11 :\n",
    "    print(\"This month have 30 days\")    \n",
    "elif month == 1 or month == 3 or month == 5 or month== 7 or month == 8 or month== 10 or month == 12 :\n",
    "    print(\"This month have 31 days\")\n",
    "elif month == 2 :\n",
    "    print(\"This month have only 28 days\")\n",
    "else :\n",
    "    print(\"Please enter a valid month\")"
   ]
  },
  {
   "cell_type": "code",
   "execution_count": 3,
   "id": "8d79dcee-13a2-4a0d-b35e-102a9aa23491",
   "metadata": {},
   "outputs": [
    {
     "name": "stdin",
     "output_type": "stream",
     "text": [
      "enter the name dad\n"
     ]
    },
    {
     "name": "stdout",
     "output_type": "stream",
     "text": [
      "name is palindrome \n"
     ]
    }
   ],
   "source": [
    "#check given string is palindrome or not\n",
    "string = input(\"enter the name\")\n",
    "if(string == string[::-1]):\n",
    "     print(\"name is palindrome \")\n",
    "else:\n",
    "     print(\"name is not palindrome\")"
   ]
  },
  {
   "cell_type": "code",
   "execution_count": 71,
   "id": "961ab3e5-bc17-4b65-b9cb-a4fabfbb7503",
   "metadata": {},
   "outputs": [
    {
     "name": "stdin",
     "output_type": "stream",
     "text": [
      "Enter the Temperature in celsius: 45\n"
     ]
    },
    {
     "name": "stdout",
     "output_type": "stream",
     "text": [
      "Temperature in Fahrenheit : 113.0\n"
     ]
    }
   ],
   "source": [
    "# converting celsuis to fahrenheit\n",
    "celsius = int(input(\"Enter the Temperature in celsius:\"))\n",
    "Fahrenheit =celsius *(9/5)+32\n",
    "print(\"Temperature in Fahrenheit :\",Fahrenheit)"
   ]
  }
 ],
 "metadata": {
  "kernelspec": {
   "display_name": "Python 3 (ipykernel)",
   "language": "python",
   "name": "python3"
  },
  "language_info": {
   "codemirror_mode": {
    "name": "ipython",
    "version": 3
   },
   "file_extension": ".py",
   "mimetype": "text/x-python",
   "name": "python",
   "nbconvert_exporter": "python",
   "pygments_lexer": "ipython3",
   "version": "3.12.4"
  }
 },
 "nbformat": 4,
 "nbformat_minor": 5
}
