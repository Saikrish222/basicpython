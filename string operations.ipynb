{
 "cells": [
  {
   "cell_type": "code",
   "execution_count": 3,
   "id": "2457704d-b19a-4c74-b38c-f9beff67b684",
   "metadata": {},
   "outputs": [
    {
     "name": "stdout",
     "output_type": "stream",
     "text": [
      "hey sai\n",
      "iam going to hyderabad\n"
     ]
    }
   ],
   "source": [
    "#string operations\n",
    "#concatination(combining two or more strings)\n",
    "str1 =\"hey\"\n",
    "str2 =\"sai\"\n",
    "result =str1+\" \"+str2\n",
    "print(result)\n",
    "\n",
    "A =\"iam going\"\n",
    "b =\"to hyderabad\"\n",
    "result =A+\" \"+B\n",
    "print(result)"
   ]
  },
  {
   "cell_type": "code",
   "execution_count": 15,
   "id": "0bebfa05-55cc-4e55-baae-59b8b4a10c33",
   "metadata": {},
   "outputs": [
    {
     "name": "stdout",
     "output_type": "stream",
     "text": [
      " jai shri ram jai shri ram\n",
      "  Thank you  Thank you  Thank you  Thank you  Thank you  Thank you  Thank you  Thank you  Thank you  Thank you\n"
     ]
    }
   ],
   "source": [
    "#repetation(repeating a string multiple times)\n",
    "A =\" jai shri ram\"\n",
    "result =A *2\n",
    "print(result)\n",
    "\n",
    "A =\"  Thank\"\n",
    "B =\"you\"\n",
    "result =A+\" \"+B\n",
    "print(result *10)"
   ]
  },
  {
   "cell_type": "code",
   "execution_count": 23,
   "id": "5068aecc-616a-4861-b0c3-b728bd9b0501",
   "metadata": {},
   "outputs": [
    {
     "name": "stdout",
     "output_type": "stream",
     "text": [
      "a\n",
      "m\n",
      "o\n"
     ]
    }
   ],
   "source": [
    "#indexing(accessing individual character in a string)\n",
    "my_string =\"cricket is a great game\"\n",
    "print(my_string[11])\n",
    "print(my_string[-2])\n",
    "\n",
    "my_string =\"wheather is so cool\"\n",
    "print(my_string[-6])"
   ]
  },
  {
   "cell_type": "code",
   "execution_count": 27,
   "id": "c3e96a4d-5def-4fb5-8177-e4aa0daf7631",
   "metadata": {},
   "outputs": [
    {
     "name": "stdout",
     "output_type": "stream",
     "text": [
      "na\n"
     ]
    }
   ],
   "source": [
    "#slicing(etracting a substring from a string)\n",
    "my_string =\"pranaykumar reddy\"\n",
    "result =(my_string[3:5])\n",
    "print(result)"
   ]
  },
  {
   "cell_type": "code",
   "execution_count": null,
   "id": "4a787225-2121-4ce1-b96d-7ac50760f12e",
   "metadata": {},
   "outputs": [],
   "source": []
  }
 ],
 "metadata": {
  "kernelspec": {
   "display_name": "Python 3 (ipykernel)",
   "language": "python",
   "name": "python3"
  },
  "language_info": {
   "codemirror_mode": {
    "name": "ipython",
    "version": 3
   },
   "file_extension": ".py",
   "mimetype": "text/x-python",
   "name": "python",
   "nbconvert_exporter": "python",
   "pygments_lexer": "ipython3",
   "version": "3.12.4"
  }
 },
 "nbformat": 4,
 "nbformat_minor": 5
}
