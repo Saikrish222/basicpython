{
 "cells": [
  {
   "cell_type": "code",
   "execution_count": 7,
   "id": "cf7eb6e2-092f-4f0b-b42f-350c6e703a46",
   "metadata": {},
   "outputs": [
    {
     "name": "stdout",
     "output_type": "stream",
     "text": [
      "set()\n"
     ]
    }
   ],
   "source": [
    "#creating an empty set\n",
    "empty_set=set()\n",
    "print(empty_set)"
   ]
  },
  {
   "cell_type": "code",
   "execution_count": 41,
   "id": "509575ed-1f76-4ba4-a408-9caf9c31ca1b",
   "metadata": {},
   "outputs": [
    {
     "name": "stdout",
     "output_type": "stream",
     "text": [
      "{'c++', 'python', 'c', 'java'}\n",
      "{'orange', 'banana', 'apple'}\n",
      "{1, 2, 3, 4, 5}\n",
      "{66, 99, 39, 9, 19, 55, 88, 27, 29}\n",
      "{'kittu', 'pranay', 'vasu'}\n",
      "{'ktm', 'gt', 'hero100', 'hero200'}\n"
     ]
    }
   ],
   "source": [
    "#creating a set with elements\n",
    "language={'c','c++','python','java'}\n",
    "print(language)\n",
    "\n",
    "fruits={'apple','banana','orange'}\n",
    "print(fruits)\n",
    "\n",
    "#converting a list to a set\n",
    "branch=set([5,4,3,2,1])\n",
    "print(branch)\n",
    "\n",
    "#duplicate items into set\n",
    "numbers={99,9,19,29,39,9,66,19,55,66,27,29,9,88,99,55}\n",
    "print(numbers)\n",
    "\n",
    "names={'pranay','kittu','pranay','vasu'}\n",
    "print(names)\n",
    "\n",
    "bikes={'gt','hero100','hero200','ktm','gt'}\n",
    "print(bikes)"
   ]
  },
  {
   "cell_type": "code",
   "execution_count": 61,
   "id": "2baaf32c-03db-49fd-8ac4-aff76f04d218",
   "metadata": {},
   "outputs": [
    {
     "name": "stdout",
     "output_type": "stream",
     "text": [
      "update set {1, 2, 3, 5, 7, 8, 9}\n",
      "update set {'python', 'javascrit', 'c', 'java'}\n",
      "update set {'kittu', 'pranay', 'vamsi', 'vasu'}\n",
      "update set {1, 2, 3, 4, 5, 6, 7, 8, 9}\n"
     ]
    }
   ],
   "source": [
    "#add items a in python\n",
    "numbers={2,3,2,5,7,7,8,9}\n",
    "numbers.add(1)\n",
    "print('update set',numbers)\n",
    "\n",
    "languages={'c','java','javascrit'}\n",
    "languages.add('python')\n",
    "print('update set',languages)\n",
    "\n",
    "names={'vamsi','pranay','kittu','vasu'}\n",
    "names.add('pranay')\n",
    "print('update set',names)\n",
    "\n",
    "numbers={2,4,5,6,7,8,9,9,8,7,6,5,4,3,2,}\n",
    "numbers.add(1)\n",
    "print('update set',numbers)\n"
   ]
  },
  {
   "cell_type": "code",
   "execution_count": 7,
   "id": "1a02c6e0-847d-4c8f-aae6-95914871f656",
   "metadata": {},
   "outputs": [
    {
     "name": "stdout",
     "output_type": "stream",
     "text": [
      "{'mech', 'csd', 'ece', 'cse', 'csm'}\n",
      "{'google', 'apple', 'tech mahindra', 'microsoft', 'tcs'}\n",
      "{'samsung', 'realme', 'redmi', 'oppo', 'oneplus', 'iphone'}\n",
      "{'delhi', 'benguluru', 'kolkata', 'hyderabad', 'mumbai', 'chennai'}\n",
      "{'45', '93', '18', '1', '7', '10', '333', '44'}\n"
     ]
    }
   ],
   "source": [
    "#update python set\n",
    "course= {'cse','csm','ece'}\n",
    "company={'apple','google','microsoft'}\n",
    "mobiles={'samsung','oppo','redmi','realme','oneplus'}\n",
    "cities={'delhi','mumbai','benguluru','chennai',}\n",
    "numbers={'45','7','18','93','10'}\n",
    "\n",
    "new_course={'csd','mech'}\n",
    "update_course=course.update(new_course)\n",
    "print(course)\n",
    "new_company={'tcs','tech mahindra'}\n",
    "update_company=company.update(new_company)\n",
    "print(company)\n",
    "new_mobiles={'iphone'}\n",
    "update_mobiles=mobiles.update(new_mobiles)\n",
    "print(mobiles)\n",
    "new_cities={'hyderabad','kolkata'}\n",
    "update_cities=cities.update(new_cities)\n",
    "print(cities)\n",
    "new_numbers={'1','333','44'}\n",
    "update_numbers=numbers.update(new_numbers)\n",
    "print(numbers)"
   ]
  },
  {
   "cell_type": "code",
   "execution_count": 23,
   "id": "837d9dbc-5174-4420-9366-3636be78b75f",
   "metadata": {},
   "outputs": [
    {
     "name": "stdout",
     "output_type": "stream",
     "text": [
      "{'cse', 'csm'}\n",
      "{'apple', 'microsoft'}\n",
      "{'samsung', 'realme', 'redmi', 'oneplus'}\n",
      "{'delhi', 'benguluru', 'mumbai'}\n",
      "{'45', '93', '18', '7'}\n"
     ]
    }
   ],
   "source": [
    "#remove()\n",
    "course= {'cse','csm','ece'}\n",
    "company={'apple','google','microsoft'}\n",
    "mobiles={'samsung','oppo','redmi','realme','oneplus'}\n",
    "cities={'delhi','mumbai','benguluru','chennai',}\n",
    "numbers={'45','7','18','93','10'}\n",
    "\n",
    "remove_course=course.remove('ece')\n",
    "print(course)\n",
    "remove_company=company.remove('google')\n",
    "print(company)\n",
    "discard_mobiles=mobiles.discard('oppo')\n",
    "print(mobiles)\n",
    "discard_cities=cities.discard('chennai')\n",
    "print(cities)\n",
    "remove_numbers=numbers.remove('10')\n",
    "print(numbers)"
   ]
  },
  {
   "cell_type": "code",
   "execution_count": 27,
   "id": "95533b0a-5441-4951-a9e5-84647677f7b7",
   "metadata": {},
   "outputs": [
    {
     "name": "stdout",
     "output_type": "stream",
     "text": [
      "set()\n",
      "set()\n"
     ]
    }
   ],
   "source": [
    "#clear()\n",
    "languages={'c','java','python'}\n",
    "languages.clear()\n",
    "print(languages)\n",
    "\n",
    "bikes={'hero','honda','splender'}\n",
    "bikes.clear()\n",
    "print(bikes)"
   ]
  },
  {
   "cell_type": "code",
   "execution_count": 33,
   "id": "19e00a6c-751d-4941-ad26-6a42334524b3",
   "metadata": {},
   "outputs": [
    {
     "name": "stdout",
     "output_type": "stream",
     "text": [
      "union of set1 and set2: {10, 11, 12, 13, 14, 15, 16, 17, 18, 19, 20}\n",
      "union of set3 and set4: {2, 3, 'pranay', 'vasu', 'lokesh', 'kittu', 'sai'}\n",
      "union of set1 and set3: {'pranay', 'vasu', 10, 11, 12, 13, 14, 15, 16, 'kittu', 'sai'}\n",
      "union of set3 and set5: {'pranay', 'vasu', 'vamsi', 'kittu', 'sai'}\n",
      "union of set4 and set5: {2, 3, 'pranay', 'vasu', 'lokesh', 'vamsi', 'kittu', 'sai'}\n"
     ]
    }
   ],
   "source": [
    "#python set operators\n",
    "#union of two sets()\n",
    "set1={10,11,12,13,14,15,16,}\n",
    "set2={17,18,19,20,10,15,11}\n",
    "set3={'kittu','sai','pranay','vasu'}\n",
    "set4={2,3,'vasu','lokesh',}\n",
    "set5={'vamsi','pranay','sai','kittu'}\n",
    "\n",
    "print(\"union of set1 and set2:\",set1 |set2)\n",
    "print(\"union of set3 and set4:\",set3.union (set4))\n",
    "print(\"union of set1 and set3:\",set1.union(set3))\n",
    "print(\"union of set1 and set5:\",set1 |set5)\n",
    "print(\"union of set4 and set5:\",set4 |set5)"
   ]
  },
  {
   "cell_type": "code",
   "execution_count": 37,
   "id": "8c37e929-2a75-4b83-901d-bd95e501dae2",
   "metadata": {},
   "outputs": [
    {
     "name": "stdout",
     "output_type": "stream",
     "text": [
      "intersection of set1 and set2: {10, 11, 15}\n",
      "intersection of set3 and set4: {'vasu'}\n",
      "intersection of set1 and set3: set()\n",
      "intersection of set1 and set5: set()\n",
      "intersection of set4 and set5: set()\n"
     ]
    }
   ],
   "source": [
    "#intersection of two sets()\n",
    "set1={10,11,12,13,14,15,16,}\n",
    "set2={17,18,19,20,10,15,11}\n",
    "set3={'kittu','sai','pranay','vasu'}\n",
    "set4={2,3,'vasu','lokesh',}\n",
    "set5={'vamsi','pranay','sai','kittu'}\n",
    "\n",
    "print(\"intersection of set1 and set2:\",set1&set2)\n",
    "print(\"intersection of set3 and set4:\",set3&set4)\n",
    "print(\"intersection of set1 and set3:\",set1.intersection(set3))\n",
    "print(\"intersection of set1 and set5:\",set1.intersection(set5))\n",
    "print(\"intersection of set4 and set5:\",set4&set5)"
   ]
  },
  {
   "cell_type": "code",
   "execution_count": 49,
   "id": "8279cc42-4f0c-40f7-a51a-811b31208f33",
   "metadata": {},
   "outputs": [
    {
     "name": "stdout",
     "output_type": "stream",
     "text": [
      "difference of set1 and set2: {16, 12, 13, 14}\n",
      "difference of set1 and set3: {10, 11, 12, 13, 14, 15, 16}\n",
      "difference of set3 and set4: {'kittu', 'sai', 'pranay'}\n",
      "difference of set4 and set5: {'lokesh', 2, 3, 'vasu'}\n",
      "difference of set1 and set5: {10, 11, 12, 13, 14, 15, 16}\n"
     ]
    }
   ],
   "source": [
    "#difference between two numbers()\n",
    "set1={10,11,12,13,14,15,16,}\n",
    "set2={17,18,19,20,10,15,11}\n",
    "set3={'kittu','sai','pranay','vasu'}\n",
    "set4={2,3,'vasu','lokesh',}\n",
    "set5={'vamsi','pranay','sai','kittu'}\n",
    "\n",
    "print(\"difference of set1 and set2:\",set1-set2)\n",
    "print(\"difference of set1 and set3:\",set1.difference(set3))\n",
    "print(\"difference of set3 and set4:\",set3.difference(set4))\n",
    "print(\"difference of set4 and set5:\",set4-set5)\n",
    "print(\"difference of set1 and set5:\",set1-set5)"
   ]
  },
  {
   "cell_type": "code",
   "execution_count": 55,
   "id": "d04cea44-988f-4acd-9fea-fc3f0295d90b",
   "metadata": {},
   "outputs": [
    {
     "name": "stdout",
     "output_type": "stream",
     "text": [
      "symmetric difference b/w set1 and set2: {12, 13, 14, 16, 17, 18, 19, 20}\n",
      "symmetric difference b/w set2 and set3: {'pranay', 'vasu', 10, 11, 15, 17, 18, 19, 20, 'kittu', 'sai'}\n",
      "symmetric difference b/w set2 and set4: {2, 3, 'vasu', 'lokesh', 10, 11, 15, 17, 18, 19, 20}\n",
      "symmetric difference b/w set4 and set5: {2, 3, 'pranay', 'vasu', 'lokesh', 'vamsi', 'kittu', 'sai'}\n",
      "symmetric difference b/w set3 and set5: {'vamsi', 'vasu'}\n"
     ]
    }
   ],
   "source": [
    "#set symmertric()\n",
    "set1={10,11,12,13,14,15,16,}\n",
    "set2={17,18,19,20,10,15,11}\n",
    "set3={'kittu','sai','pranay','vasu'}\n",
    "set4={2,3,'vasu','lokesh',}\n",
    "set5={'vamsi','pranay','sai','kittu'}\n",
    "\n",
    "print(\"symmetric difference b/w set1 and set2:\",set1^set2)\n",
    "print(\"symmetric difference b/w set2 and set3:\",set2^set3)\n",
    "print(\"symmetric difference b/w set2 and set4:\",set2^set4)\n",
    "print(\"symmetric difference b/w set4 and set5:\",set4^set5)\n",
    "print(\"symmetric difference b/w set3 and set5:\",set3^set5)"
   ]
  },
  {
   "cell_type": "code",
   "execution_count": null,
   "id": "9c866725-554a-4dcb-9b2c-21533cfe826d",
   "metadata": {},
   "outputs": [],
   "source": []
  }
 ],
 "metadata": {
  "kernelspec": {
   "display_name": "Python 3 (ipykernel)",
   "language": "python",
   "name": "python3"
  },
  "language_info": {
   "codemirror_mode": {
    "name": "ipython",
    "version": 3
   },
   "file_extension": ".py",
   "mimetype": "text/x-python",
   "name": "python",
   "nbconvert_exporter": "python",
   "pygments_lexer": "ipython3",
   "version": "3.12.4"
  }
 },
 "nbformat": 4,
 "nbformat_minor": 5
}
