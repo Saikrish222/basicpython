{
 "cells": [
  {
   "cell_type": "code",
   "execution_count": 1,
   "id": "c7bda3c7-9f30-4822-9b54-63a8961e96c0",
   "metadata": {},
   "outputs": [
    {
     "name": "stdout",
     "output_type": "stream",
     "text": [
      "pranay\n",
      "vasu\n",
      "vamshidhar\n"
     ]
    }
   ],
   "source": [
    "x,y,z=\"pranay\",\"vasu\",\"vamshidhar\"\n",
    "print(x)\n",
    "print(y)\n",
    "print(z)"
   ]
  },
  {
   "cell_type": "code",
   "execution_count": 3,
   "id": "62667264-7766-48a5-b2d2-3517bbae30f6",
   "metadata": {},
   "outputs": [
    {
     "name": "stdout",
     "output_type": "stream",
     "text": [
      "56.6\n",
      "56.6\n",
      "56.6\n"
     ]
    }
   ],
   "source": [
    "x=y=z=56.6\n",
    "print(x)\n",
    "print(y)\n",
    "print(z)"
   ]
  },
  {
   "cell_type": "code",
   "execution_count": null,
   "id": "7d4dab96-5773-48f7-b607-86a775ce19d8",
   "metadata": {},
   "outputs": [],
   "source": []
  }
 ],
 "metadata": {
  "kernelspec": {
   "display_name": "Python 3 (ipykernel)",
   "language": "python",
   "name": "python3"
  },
  "language_info": {
   "codemirror_mode": {
    "name": "ipython",
    "version": 3
   },
   "file_extension": ".py",
   "mimetype": "text/x-python",
   "name": "python",
   "nbconvert_exporter": "python",
   "pygments_lexer": "ipython3",
   "version": "3.12.4"
  }
 },
 "nbformat": 4,
 "nbformat_minor": 5
}
