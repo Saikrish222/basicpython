{
 "cells": [
  {
   "cell_type": "code",
   "execution_count": 64,
   "id": "c961bdf9-3831-417b-aceb-dda1e5783843",
   "metadata": {},
   "outputs": [
    {
     "name": "stdout",
     "output_type": "stream",
     "text": [
      "odd\n"
     ]
    }
   ],
   "source": [
    "def integer(number):\n",
    "    if number % 2==0:\n",
    "        print(\"even\")\n",
    "    else:\n",
    "        print(\"odd\")\n",
    "#function call\n",
    "integer(99)"
   ]
  },
  {
   "cell_type": "code",
   "execution_count": 66,
   "id": "a209e66e-a29d-4b58-a5d0-601eddd7d349",
   "metadata": {},
   "outputs": [
    {
     "name": "stdout",
     "output_type": "stream",
     "text": [
      " hello kittu\n"
     ]
    }
   ],
   "source": [
    "def greet (name):\n",
    "    print(f\" hello {name}\");\n",
    "#function call    \n",
    "greet(\"kittu\")  "
   ]
  },
  {
   "cell_type": "code",
   "execution_count": 70,
   "id": "ff571904-c67a-4117-b489-cf7f486c616d",
   "metadata": {},
   "outputs": [
    {
     "name": "stdout",
     "output_type": "stream",
     "text": [
      "sum: 268\n",
      "sum: 1468\n",
      "sum: 2\n"
     ]
    }
   ],
   "source": [
    "#two arguments\n",
    "def add_numbers(num1,num2):\n",
    "    sum = num1+num2\n",
    "    print(\"sum:\",sum)\n",
    "#function call\n",
    "add_numbers(34,234)\n",
    "add_numbers(735,733)\n",
    "add_numbers(1,1)"
   ]
  },
  {
   "cell_type": "code",
   "execution_count": 76,
   "id": "0638326c-cdea-4bde-9c46-11d07bcb70b6",
   "metadata": {},
   "outputs": [
    {
     "data": {
      "text/plain": [
       "81"
      ]
     },
     "execution_count": 76,
     "metadata": {},
     "output_type": "execute_result"
    }
   ],
   "source": [
    "#return statement\n",
    "def find_square(num):\n",
    "    result = num * num\n",
    "    return result\n",
    "#function call\n",
    "find_square(9)"
   ]
  },
  {
   "cell_type": "code",
   "execution_count": 23,
   "id": "83741d80-9b9e-4f14-b22c-7993359b9b4e",
   "metadata": {},
   "outputs": [
    {
     "name": "stdout",
     "output_type": "stream",
     "text": [
      "119\n",
      "7\n"
     ]
    }
   ],
   "source": [
    "#lambda\n",
    "x = lambda a :a +99\n",
    "print(x(20)) \n",
    "\n",
    "j = lambda a,b,c : a+b*c\n",
    "print(j(1,2,3))"
   ]
  },
  {
   "cell_type": "code",
   "execution_count": 29,
   "id": "7710d4aa-9e4c-49a6-8450-68cbbbb64bf1",
   "metadata": {},
   "outputs": [
    {
     "name": "stdout",
     "output_type": "stream",
     "text": [
      "10\n",
      "119\n"
     ]
    }
   ],
   "source": [
    "#lambda function that add two numbers\n",
    "add = lambda x,y,z : x+y-z\n",
    "results = add(20,30,40)\n",
    "print(results)\n",
    "\n",
    "name = lambda a,b,c : a+b+c\n",
    "results = name(23,43,53)\n",
    "print(results)"
   ]
  },
  {
   "cell_type": "code",
   "execution_count": 37,
   "id": "fc38d4d9-a97d-4741-8d98-f05e36e84a9e",
   "metadata": {},
   "outputs": [],
   "source": [
    "def my_fun(n):\n",
    "    return lambda a:a*n\n",
    "    mult = myfun(15)\n",
    "    print(mult(11))"
   ]
  },
  {
   "cell_type": "code",
   "execution_count": null,
   "id": "d8f7a71d-90a7-4356-8102-491865a6f2fe",
   "metadata": {},
   "outputs": [],
   "source": []
  }
 ],
 "metadata": {
  "kernelspec": {
   "display_name": "Python 3 (ipykernel)",
   "language": "python",
   "name": "python3"
  },
  "language_info": {
   "codemirror_mode": {
    "name": "ipython",
    "version": 3
   },
   "file_extension": ".py",
   "mimetype": "text/x-python",
   "name": "python",
   "nbconvert_exporter": "python",
   "pygments_lexer": "ipython3",
   "version": "3.12.4"
  }
 },
 "nbformat": 4,
 "nbformat_minor": 5
}
