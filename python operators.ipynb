{
 "cells": [
  {
   "cell_type": "code",
   "execution_count": 3,
   "id": "ad0d4b2f-d54b-4932-bd2a-b7064daa6557",
   "metadata": {},
   "outputs": [
    {
     "name": "stdout",
     "output_type": "stream",
     "text": [
      "8\n",
      "-4\n",
      "12\n",
      "0.3333333333333333\n",
      "2\n",
      "64\n",
      "0\n"
     ]
    }
   ],
   "source": [
    "# Arthmetic Operator\n",
    "a = 2\n",
    "b = 6\n",
    "#addition\n",
    "c = a + b\n",
    "print(c)\n",
    "#subtraction\n",
    "c = a - b\n",
    "print(c)\n",
    "#multiplication\n",
    "c = a * b\n",
    "print(c)\n",
    "#division\n",
    "c = a / b\n",
    "print(c)\n",
    "#modulus (Quo)\n",
    "c = a % b\n",
    "print(c)\n",
    "#exponentiation\n",
    "c = a ** b\n",
    "print(c)\n",
    "#floor division (rem)\n",
    "c = a // b\n",
    "print(c)\n"
   ]
  },
  {
   "cell_type": "code",
   "execution_count": 7,
   "id": "eac50574-0ef2-4f83-b20f-7422d50586ec",
   "metadata": {},
   "outputs": [
    {
     "name": "stdout",
     "output_type": "stream",
     "text": [
      "27\n",
      "1\n",
      "28\n",
      "2.0\n",
      "2\n",
      "5\n"
     ]
    }
   ],
   "source": [
    "#assignment operators\n",
    "#addition assignment\n",
    "A = 15\n",
    "B = 12\n",
    "A+=B\n",
    "print(A)\n",
    "#subtraction assignment\n",
    "X = 5\n",
    "Y = 4\n",
    "X-= Y\n",
    "print(X)\n",
    "#multiplication assignment\n",
    "P = 14\n",
    "Q = 2\n",
    "P*= Q\n",
    "print(P)\n",
    "#division assignment\n",
    "U = 18\n",
    "V = 9\n",
    "U/= V\n",
    "print(U)\n",
    "#modulus assignment\n",
    "G = 18\n",
    "H = 4\n",
    "G%=H\n",
    "print(G)\n",
    "#floor assignment\n",
    "M = 16\n",
    "N = 3\n",
    "M //=N\n",
    "print(M)"
   ]
  },
  {
   "cell_type": "code",
   "execution_count": 9,
   "id": "58ac0e0a-03d1-4aec-aa82-752eb63d021f",
   "metadata": {},
   "outputs": [
    {
     "name": "stdout",
     "output_type": "stream",
     "text": [
      "False\n",
      "True\n",
      "True\n",
      "False\n",
      "True\n",
      "False\n",
      "False\n",
      "True\n",
      "True\n",
      "True\n",
      "False\n",
      "True\n"
     ]
    }
   ],
   "source": [
    "#COMPARISION OPERATORS\n",
    "#is equal to\n",
    "x = 78\n",
    "y = 66\n",
    "z = 78\n",
    "print(x == y)\n",
    "print(x == z)\n",
    "#not equal to\n",
    "print(x != y)\n",
    "print(x != z)\n",
    "#greater than\n",
    "print(x > y)\n",
    "print(x > z)\n",
    "#less than\n",
    "print(x < y)\n",
    "print(y < x)\n",
    "#greater than or equal to\n",
    "print(x >= y)\n",
    "print(z >= x)\n",
    "#less than or equal to\n",
    "print(x <= y)\n",
    "print(y <= z)"
   ]
  },
  {
   "cell_type": "code",
   "execution_count": 11,
   "id": "be542f88-8058-4be2-b263-36ceb10cd397",
   "metadata": {},
   "outputs": [
    {
     "name": "stdout",
     "output_type": "stream",
     "text": [
      "False\n",
      "True\n",
      "True\n",
      "False\n",
      "False\n",
      "True\n"
     ]
    }
   ],
   "source": [
    "#LOGICAL OPERATORS\n",
    "a = 10\n",
    "b = 13\n",
    "#and operator\n",
    "print(a > b and b < a)\n",
    "print(a < b and b > a)\n",
    "#or operator\n",
    "print(a > b or b > a)\n",
    "print(a > b or b < a)\n",
    "#not operation\n",
    "print(not(a > b or b > a))\n",
    "print(not(a < b and b < a))"
   ]
  },
  {
   "cell_type": "code",
   "execution_count": 13,
   "id": "69363e63-2e63-4e76-8753-d80b82f7876e",
   "metadata": {},
   "outputs": [
    {
     "name": "stdout",
     "output_type": "stream",
     "text": [
      "False\n",
      "True\n",
      "False\n",
      "True\n",
      "False\n",
      "True\n",
      "False\n"
     ]
    }
   ],
   "source": [
    "#Identity Opearators\n",
    "last_bencher = \"suresh\"\n",
    "front_bencher = \"ramesh\"\n",
    "print(last_bencher is front_bencher)\n",
    "print(last_bencher is not front_bencher)\n",
    "\n",
    "x = \"banana\",\"apple\",\"mango\"\n",
    "y = \"ramesh\",\"suresh\",\"banana\"\n",
    "print(x is y)\n",
    "print(y is not x)\n",
    "\n",
    "village = \"kittu\",\"vasu\",\"chandhu\"\n",
    "city = \"abc\",\"bcd\",\"cde\"\n",
    "town = village\n",
    "print(village is city)\n",
    "print(village is town)\n",
    "print(village is not town)"
   ]
  },
  {
   "cell_type": "code",
   "execution_count": 15,
   "id": "bb1af039-0ea2-4123-86af-79dcd04ed5ad",
   "metadata": {},
   "outputs": [
    {
     "name": "stdout",
     "output_type": "stream",
     "text": [
      "True\n",
      "False\n",
      "True\n",
      "False\n",
      "False\n",
      "True\n"
     ]
    }
   ],
   "source": [
    "#Membership Operator\n",
    "class1 = 1,2,3,4,5,6\n",
    "class2 = 7,8,9,10,11\n",
    "class3 = 12,13,14,15\n",
    "print(8 in class2)\n",
    "print(2 in class2)\n",
    "print(13 in class3)\n",
    "print(3 not in class1)\n",
    "print(11 not in class2)\n",
    "print(6 not in class3)"
   ]
  },
  {
   "cell_type": "code",
   "execution_count": 17,
   "id": "cf935a4d-7649-403f-84a8-01ce58f71997",
   "metadata": {},
   "outputs": [
    {
     "name": "stdout",
     "output_type": "stream",
     "text": [
      "8\n",
      "430\n",
      "1\n",
      "449\n",
      "15\n",
      "447\n",
      "335\n",
      "2015\n",
      "7\n",
      "17\n",
      "334\n",
      "1566\n"
     ]
    }
   ],
   "source": [
    "\n",
    "#Bitwise AND Operator\n",
    "a = 9\n",
    "b = 14\n",
    "print(a & b)\n",
    "\n",
    "c = 447\n",
    "d = 430\n",
    "print(c & d)\n",
    "\n",
    "e = 333\n",
    "f = 3\n",
    "print(e & f)\n",
    "\n",
    "g = 971\n",
    "h = 1493\n",
    "print(g & h)\n",
    "\n",
    "#Bitwise OR Operator\n",
    "a = 9\n",
    "b = 14\n",
    "print(a | b)\n",
    "\n",
    "c = 447\n",
    "d = 430\n",
    "print(c | d)\n",
    "\n",
    "e = 333\n",
    "f = 3\n",
    "print(e | f)\n",
    "\n",
    "g = 971\n",
    "h = 1493\n",
    "print(g | h)\n",
    "\n",
    "#Bitwise XOR Operator\n",
    "a = 9\n",
    "b = 14\n",
    "print(a ^ b)\n",
    "\n",
    "c = 447\n",
    "d = 430\n",
    "print(c ^ d)\n",
    "\n",
    "e = 333\n",
    "f = 3\n",
    "print(e ^ f)\n",
    "\n",
    "g = 971\n",
    "h = 1493\n",
    "print(g ^ h)"
   ]
  },
  {
   "cell_type": "code",
   "execution_count": 19,
   "id": "740370aa-5154-4496-a82c-4904405ffae1",
   "metadata": {},
   "outputs": [
    {
     "name": "stdout",
     "output_type": "stream",
     "text": [
      "38256\n",
      "28764\n",
      "17179869184\n"
     ]
    }
   ],
   "source": [
    "#left shift\n",
    "a = 2391\n",
    "b = 4\n",
    "print(a << b)\n",
    "\n",
    "a = 7191\n",
    "b = 2\n",
    "print(a << b)\n",
    "\n",
    "a = 32\n",
    "b = 29\n",
    "print(a << b)"
   ]
  },
  {
   "cell_type": "code",
   "execution_count": 21,
   "id": "9d9d7da8-65d6-4be9-ae6c-d528068d06ef",
   "metadata": {},
   "outputs": [
    {
     "name": "stdout",
     "output_type": "stream",
     "text": [
      "2560\n",
      "378\n",
      "0\n"
     ]
    }
   ],
   "source": [
    "#right shift\n",
    "a = 5121\n",
    "b = 1\n",
    "print(a >> b)\n",
    "\n",
    "a = 3029\n",
    "b = 3\n",
    "print(a >> b)\n",
    "\n",
    "a = 98\n",
    "b = 39\n",
    "print(a >> b)"
   ]
  },
  {
   "cell_type": "code",
   "execution_count": null,
   "id": "66f4e479-5b79-4bb5-8b1d-b53d75ef0a5f",
   "metadata": {},
   "outputs": [],
   "source": []
  }
 ],
 "metadata": {
  "kernelspec": {
   "display_name": "Python 3 (ipykernel)",
   "language": "python",
   "name": "python3"
  },
  "language_info": {
   "codemirror_mode": {
    "name": "ipython",
    "version": 3
   },
   "file_extension": ".py",
   "mimetype": "text/x-python",
   "name": "python",
   "nbconvert_exporter": "python",
   "pygments_lexer": "ipython3",
   "version": "3.12.4"
  }
 },
 "nbformat": 4,
 "nbformat_minor": 5
}
