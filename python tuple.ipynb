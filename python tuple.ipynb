{
 "cells": [
  {
   "cell_type": "code",
   "execution_count": 1,
   "id": "8e9ea270-9d90-4dc3-a911-7283dd69c983",
   "metadata": {},
   "outputs": [
    {
     "data": {
      "text/plain": [
       "()"
      ]
     },
     "execution_count": 1,
     "metadata": {},
     "output_type": "execute_result"
    }
   ],
   "source": [
    "#ordered,immutable\n",
    "#creating empty tuple\n",
    "empty_tuple =()\n",
    "empty_tuple"
   ]
  },
  {
   "cell_type": "code",
   "execution_count": 15,
   "id": "9abd29dc-3a39-4e43-8cb2-866d9d2846fe",
   "metadata": {},
   "outputs": [
    {
     "name": "stdout",
     "output_type": "stream",
     "text": [
      "('sai', 'sunny', 'saiteja', 'someshwar', 'teja')\n",
      "<class 'tuple'>\n",
      "('enfield', 'hero', 'honda', 'tvs')\n",
      "('bikes', 1.72, 'banana', 333)\n",
      "(True, False, 'apple', 1.45)\n",
      "('vasu', 'kittu', 'pranay', 'lokesh', 'shiva')\n",
      "('koushik', 'vineeth', 11.32, 'bhuvan', 'mahesh', 'rakesh')\n",
      "('ganesh', 'chandhu', 'tinku', True, 'naveen', 'varun')\n",
      "<class 'tuple'>\n",
      "(32,)\n",
      "('ravila', 'chinni', 'revi', 2222, 'prakash', 'raju')\n",
      "kight\n"
     ]
    }
   ],
   "source": [
    "#creating a tuple\n",
    "names = (\"sai\",\"sunny\",\"saiteja\",\"someshwar\",\"teja\")\n",
    "print(names)\n",
    "print(type(names))\n",
    "\n",
    "Bikes = (\"enfield\",\"hero\",\"honda\",\"tvs\")\n",
    "print(Bikes)\n",
    "\n",
    "mixed_tuple1 = (\"bikes\",1.72,\"banana\",333)\n",
    "print(mixed_tuple1)\n",
    "\n",
    "mixed_tuple2 = (True , False , \"apple\" , 1.45)\n",
    "print(mixed_tuple2)\n",
    "\n",
    "batch_1 = (\"vasu\",\"kittu\",\"pranay\",\"lokesh\",\"shiva\")\n",
    "print(batch_1)\n",
    "\n",
    "batch_2 = (\"koushik\",\"vineeth\",11.32,\"bhuvan\",\"mahesh\",\"rakesh\")\n",
    "print(batch_2)\n",
    "\n",
    "batch_3 = (\"ganesh\",\"chandhu\",\"tinku\",True,\"naveen\",\"varun\")\n",
    "print(batch_3)\n",
    "\n",
    "batch_4 = (32,)\n",
    "print(type(batch_4))\n",
    "print(batch_4)\n",
    "\n",
    "batch_5 = (\"ravila\",\"chinni\",\"revi\",2222,\"prakash\",\"raju\")\n",
    "print(batch_5)\n",
    "\n",
    "abc = (\"kight\")\n",
    "print(abc)"
   ]
  },
  {
   "cell_type": "code",
   "execution_count": 9,
   "id": "7f797c62-b5bc-4c44-8270-aaa7e8182ba2",
   "metadata": {},
   "outputs": [
    {
     "name": "stdout",
     "output_type": "stream",
     "text": [
      "vamsi\n",
      "tvs\n",
      "2.32\n",
      "2.45\n",
      "pranay\n",
      "kumar\n",
      "True\n",
      "32\n",
      "ravi\n",
      "t\n",
      "('vamsi', 'sunny')\n",
      "('enfield', 'hero')\n",
      "('bikes', 453)\n",
      "()\n",
      "('pranay', 'lokesh')\n",
      "('rakesh', 'mahesh')\n",
      "('praveen', True, 'manoj')\n",
      "(32,)\n",
      "('ravila', 'chinni')\n",
      "t\n"
     ]
    }
   ],
   "source": [
    "#Accessing of tuples\n",
    "#indexing of tuples\n",
    "names = (\"sai\",\"lokesh\",\"vamsi\",\"sunny\",\"saiteja\")\n",
    "Bikes = (\"enfield\",\"hero\",\"honda\",\"tvs\")\n",
    "mixed_tuple1 = (\"banana\",2.32,\"bikes\",453)\n",
    "mixed_tuple2 = (True , False , \"apple\" , 2.45)\n",
    "batch_1 = (\"vasu\",\"kittu\",\"pranay\",\"lokesh\",\"shiva\")\n",
    "batch_2 = (\"kumar\",\"kiran\",11.32,\"bhuvan\",\"tinku\",\"naveen\")\n",
    "batch_3 = (\"ganesh\",\"chandhu\",\"praveen\",True,\"manoj\",\"varun\")\n",
    "batch_4 = (32,)\n",
    "batch_5 = (\"ravila\",\"chinni\",\"ravi\",22222,\"prakash\",\"raju\")\n",
    "abc = (\"kight\")\n",
    "print(names[2])\n",
    "print(Bikes[3])\n",
    "print(mixed_tuple1[1])\n",
    "print(mixed_tuple2[3])\n",
    "print(batch_1[2])\n",
    "print(batch_2[0])\n",
    "print(batch_3[3])\n",
    "print(batch_4[0])\n",
    "print(batch_5[2])\n",
    "print(abc[4])\n",
    "\n",
    "##Slicing of tuples\n",
    "names = (\"sai\",\"lokesh\",\"vamsi\",\"sunny\",\"saiteja\")\n",
    "Bikes = (\"enfield\",\"hero\",\"honda\",\"tvs\")\n",
    "mixed_tuple1 = (\"banana\",2.32,\"bikes\",453)\n",
    "mixed_tuple2 = (True , False , \"apple\" , 2.45)\n",
    "batch_1 = (\"vasu\",\"kittu\",\"pranay\",\"lokesh\",\"shiva\")\n",
    "batch_2 = (\"rakesh\",\"mahesh\",11.32,\"bhuvan\",\"tinku\",\"naveen\")\n",
    "batch_3 = (\"ganesh\",\"chandhu\",\"praveen\",True,\"manoj\",\"varun\")\n",
    "batch_4 = (32,)\n",
    "batch_5 = (\"ravila\",\"chinni\",\"ravi\",22222,\"prakash\",\"raju\")\n",
    "abc = (\"kight\")\n",
    "print(names[2 : 4])\n",
    "print(Bikes[0 : 2])\n",
    "print(mixed_tuple1[2 : 5])\n",
    "print(mixed_tuple2[-3 : 0])\n",
    "print(batch_1[2 : 4])\n",
    "print(batch_2[0 : 2])\n",
    "print(batch_3[2 : 5])\n",
    "print(batch_4[0 : ])\n",
    "print(batch_5[ : 2])\n",
    "print(abc[4 : ])"
   ]
  },
  {
   "cell_type": "code",
   "execution_count": 11,
   "id": "ab2f07b0-9bb3-4c16-baa1-9fc9fbafcc57",
   "metadata": {},
   "outputs": [
    {
     "name": "stdout",
     "output_type": "stream",
     "text": [
      "('sai', 'lokesh', 'vamsi', 'sunny', 'saiteja', 'enfield', 'hero', 'honda', 'tvs')\n",
      "('banana', 1.32, 'bikes', 543, False, False, 'apple', 2.45)\n",
      "('vasu', 'kittu', 'pranay', 'lokesh', 'shiva', 'rakesh', 'mahesh', 10.22, 'bhuvan', 'tinku', 'naveen')\n",
      "('ganesh', 'chandhu', 'praveen', True, 'manoj', 'varun', 28)\n",
      "('ravila', 'chinni', 'ravi', 22222, 'someshwar', 'raju', 'kight')\n",
      "('sai', 'lokesh', 'vamsi', 'sunny', 'saiteja', 'kight')\n",
      "('banana', 1.32, 'bikes', 543, 'ravila', 'chinni', 'ravi', 22222, 'someshwar', 'raju')\n",
      "(False, False, 'apple', 2.45, 28)\n",
      "('vasu', 'kittu', 'pranay', 'lokesh', 'shiva', 'rakesh', 'mahesh', 10.22, 'bhuvan', 'tinku', 'naveen', 'ganesh', 'chandhu', 'praveen', True, 'manoj', 'varun')\n",
      "('sai', 'lokesh', 'vamsi', 'sunny', 'saiteja', 'enfield', 'hero', 'honda', 'tvs', 'vasu', 'kittu', 'pranay', 'lokesh', 'shiva', 'rakesh', 'mahesh', 10.22, 'bhuvan', 'tinku', 'naveen', 'ganesh', 'chandhu', 'praveen', True, 'manoj', 'varun')\n"
     ]
    }
   ],
   "source": [
    "#Tuple Operations\n",
    "#1) Concatination\n",
    "names = (\"sai\",\"lokesh\",\"vamsi\",\"sunny\",\"saiteja\")\n",
    "Bikes = (\"enfield\",\"hero\",\"honda\",\"tvs\")\n",
    "mixed_tuple1 = (\"banana\",1.32,\"bikes\",543)\n",
    "mixed_tuple2 = (False , False , \"apple\" , 2.45)\n",
    "batch_1 = (\"vasu\",\"kittu\",\"pranay\",\"lokesh\",\"shiva\")\n",
    "batch_2 = (\"rakesh\",\"mahesh\",10.22,\"bhuvan\",\"tinku\",\"naveen\")\n",
    "batch_3 = (\"ganesh\",\"chandhu\",\"praveen\",True,\"manoj\",\"varun\")\n",
    "batch_4 = (28,)\n",
    "batch_5 = (\"ravila\",\"chinni\",\"ravi\",22222,\"someshwar\",\"raju\")\n",
    "abc = (\"kight\",)\n",
    "print(names + Bikes)\n",
    "print(mixed_tuple1 + mixed_tuple2)\n",
    "print(batch_1 + batch_2)\n",
    "print(batch_3 + batch_4)\n",
    "print(batch_5 + abc)\n",
    "print(names + abc)\n",
    "print(mixed_tuple1 + batch_5)\n",
    "print(mixed_tuple2 + batch_4)\n",
    "print(batch_1 + batch_2 + batch_3)\n",
    "print(names + Bikes + batch_1 + batch_2 + batch_3)"
   ]
  },
  {
   "cell_type": "code",
   "execution_count": 13,
   "id": "22482254-c720-445e-b44a-75453a74d981",
   "metadata": {},
   "outputs": [
    {
     "name": "stdout",
     "output_type": "stream",
     "text": [
      "('sai', 'lokesh', 'vamsi', 'sunny', 'saiteja', 'sai', 'lokesh', 'vamsi', 'sunny', 'saiteja')\n",
      "('enfield', 'hero', 'honda', 'tvs', 'enfield', 'hero', 'honda', 'tvs', 'enfield', 'hero', 'honda', 'tvs')\n",
      "('ganesh', 'chandhu', 'praveen', True, 'manoj', 'varun', 25, 'ganesh', 'chandhu', 'praveen', True, 'manoj', 'varun', 25, 'ganesh', 'chandhu', 'praveen', True, 'manoj', 'varun', 25, 'ganesh', 'chandhu', 'praveen', True, 'manoj', 'varun', 25)\n",
      "('ravila', 'chinni', 'ravi', 222, 'someshwar', 'raju', 'kight', 'ravila', 'chinni', 'ravi', 222, 'someshwar', 'raju', 'kight', 'ravila', 'chinni', 'ravi', 222, 'someshwar', 'raju', 'kight')\n",
      "('vasu', 'kittu', 'pranay', 'lokesh', 'shiva', 'rakesh', 'mahesh', 9.32, 'bhuvan', 'tinku', 'naveen', 'ganesh', 'chandhu', 'praveen', True, 'manoj', 'varun', 'vasu', 'kittu', 'pranay', 'lokesh', 'shiva', 'rakesh', 'mahesh', 9.32, 'bhuvan', 'tinku', 'naveen', 'ganesh', 'chandhu', 'praveen', True, 'manoj', 'varun')\n",
      "('sai', 'lokesh', 'vamsi', 'sunny', 'saiteja', 'enfield', 'hero', 'honda', 'tvs', 'vasu', 'kittu', 'pranay', 'lokesh', 'shiva', 'rakesh', 'mahesh', 9.32, 'bhuvan', 'tinku', 'naveen', 'ganesh', 'chandhu', 'praveen', True, 'manoj', 'varun', 'sai', 'lokesh', 'vamsi', 'sunny', 'saiteja', 'enfield', 'hero', 'honda', 'tvs', 'vasu', 'kittu', 'pranay', 'lokesh', 'shiva', 'rakesh', 'mahesh', 9.32, 'bhuvan', 'tinku', 'naveen', 'ganesh', 'chandhu', 'praveen', True, 'manoj', 'varun', 'sai', 'lokesh', 'vamsi', 'sunny', 'saiteja', 'enfield', 'hero', 'honda', 'tvs', 'vasu', 'kittu', 'pranay', 'lokesh', 'shiva', 'rakesh', 'mahesh', 9.32, 'bhuvan', 'tinku', 'naveen', 'ganesh', 'chandhu', 'praveen', True, 'manoj', 'varun')\n",
      "('sai', 'lokesh', 'vamsi', 'sunny', 'saiteja', 'enfield', 'hero', 'honda', 'tvs')\n",
      "('bikes', 1.72, 'banana', 543, False, False, 'apple', 2.45, 'bikes', 1.72, 'banana', 543, False, False, 'apple', 2.45, 'bikes', 1.72, 'banana', 543, False, False, 'apple', 2.45)\n",
      "(25, 25)\n",
      "('rakesh', 'mahesh', 9.32, 'bhuvan', 'tinku', 'naveen', 'rakesh', 'mahesh', 9.32, 'bhuvan', 'tinku', 'naveen', 'rakesh', 'mahesh', 9.32, 'bhuvan', 'tinku', 'naveen')\n"
     ]
    }
   ],
   "source": [
    "#2) Repetition\n",
    "names = (\"sai\",\"lokesh\",\"vamsi\",\"sunny\",\"saiteja\")\n",
    "Bikes = (\"enfield\",\"hero\",\"honda\",\"tvs\")\n",
    "mixed_tuple1 = (\"bikes\",1.72,\"banana\",543)\n",
    "mixed_tuple2 = (False , False , \"apple\" , 2.45)\n",
    "batch_1 = (\"vasu\",\"kittu\",\"pranay\",\"lokesh\",\"shiva\")\n",
    "batch_2 = (\"rakesh\",\"mahesh\",9.32,\"bhuvan\",\"tinku\",\"naveen\")\n",
    "batch_3 = (\"ganesh\",\"chandhu\",\"praveen\",True,\"manoj\",\"varun\")\n",
    "batch_4 = (25,)\n",
    "batch_5 = (\"ravila\",\"chinni\",\"ravi\",222,\"someshwar\",\"raju\")\n",
    "abc = (\"kight\",)\n",
    "print(names * 2)\n",
    "print(Bikes *3)\n",
    "print((batch_3 + batch_4) * 4)\n",
    "print((batch_5 + abc) * 3)\n",
    "print((batch_1 + batch_2 + batch_3) * 2)\n",
    "print((names + Bikes + batch_1 + batch_2 + batch_3) * 3)\n",
    "print((names + Bikes) * 1)\n",
    "print((mixed_tuple1 + mixed_tuple2) * 3)\n",
    "print(batch_4 * 2)\n",
    "print(batch_2 * 3)"
   ]
  },
  {
   "cell_type": "code",
   "execution_count": null,
   "id": "57cc9612-86fb-4bc7-b84f-9a8c6f1184e0",
   "metadata": {},
   "outputs": [],
   "source": []
  }
 ],
 "metadata": {
  "kernelspec": {
   "display_name": "Python 3 (ipykernel)",
   "language": "python",
   "name": "python3"
  },
  "language_info": {
   "codemirror_mode": {
    "name": "ipython",
    "version": 3
   },
   "file_extension": ".py",
   "mimetype": "text/x-python",
   "name": "python",
   "nbconvert_exporter": "python",
   "pygments_lexer": "ipython3",
   "version": "3.12.4"
  }
 },
 "nbformat": 4,
 "nbformat_minor": 5
}
