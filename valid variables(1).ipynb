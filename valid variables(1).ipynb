{
 "cells": [
  {
   "cell_type": "code",
   "execution_count": 5,
   "id": "c807d1f7-29bb-43ad-ab73-9e294ef663d8",
   "metadata": {},
   "outputs": [
    {
     "name": "stdout",
     "output_type": "stream",
     "text": [
      "kittu\n",
      "22\n",
      "hyderabad\n",
      "humidity\n",
      "35\n",
      "12.5\n",
      "506112\n",
      "subject\n",
      "snake\n",
      "100\n"
     ]
    }
   ],
   "source": [
    "#creating 10 valid variables\n",
    "name=\"kittu\"\n",
    "_age=22\n",
    "city=\"hyderabad\"\n",
    "wheather=\"humidity\"\n",
    "_temperature=35\n",
    "rainfall=12.5\n",
    "_pincode=506112\n",
    "python=\"subject\"\n",
    "_anaconda=\"snake\"\n",
    "abc=100\n",
    "print(name)\n",
    "print(_age)\n",
    "print(city)\n",
    "print(wheather)\n",
    "print(_temperature)\n",
    "print(rainfall)\n",
    "print(_pincode)\n",
    "print(python)\n",
    "print(_anaconda)\n",
    "print(abc)"
   ]
  },
  {
   "cell_type": "code",
   "execution_count": null,
   "id": "ca11dcde-1d41-438e-81a5-dd6af401f901",
   "metadata": {},
   "outputs": [],
   "source": []
  }
 ],
 "metadata": {
  "kernelspec": {
   "display_name": "Python 3 (ipykernel)",
   "language": "python",
   "name": "python3"
  },
  "language_info": {
   "codemirror_mode": {
    "name": "ipython",
    "version": 3
   },
   "file_extension": ".py",
   "mimetype": "text/x-python",
   "name": "python",
   "nbconvert_exporter": "python",
   "pygments_lexer": "ipython3",
   "version": "3.12.4"
  }
 },
 "nbformat": 4,
 "nbformat_minor": 5
}
